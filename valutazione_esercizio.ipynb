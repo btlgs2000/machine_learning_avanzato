{
 "metadata": {
  "language_info": {
   "codemirror_mode": {
    "name": "ipython",
    "version": 3
   },
   "file_extension": ".py",
   "mimetype": "text/x-python",
   "name": "python",
   "nbconvert_exporter": "python",
   "pygments_lexer": "ipython3",
   "version": "3.7.4-final"
  },
  "orig_nbformat": 2,
  "kernelspec": {
   "name": "python37464bitbaseconda23e937e95969445babd8b9c091f71447",
   "display_name": "Python 3.7.4 64-bit ('base': conda)"
  }
 },
 "nbformat": 4,
 "nbformat_minor": 2,
 "cells": [
  {
   "cell_type": "code",
   "execution_count": 1,
   "metadata": {},
   "outputs": [],
   "source": [
    "import pandas as pd\n",
    "import numpy as np"
   ]
  },
  {
   "cell_type": "code",
   "execution_count": 36,
   "metadata": {},
   "outputs": [],
   "source": [
    "def mape(y_true, y_pred):\n",
    "    assert y_true.ndim==1\n",
    "    assert y_pred.ndim==1\n",
    "    return ((y_true - y_pred) / y_true).abs().mean()"
   ]
  },
  {
   "cell_type": "code",
   "execution_count": 37,
   "metadata": {},
   "outputs": [],
   "source": [
    "df_test = pd.read_csv(r'esercizio_regressione_soluzioni\\data\\houses_test.csv')"
   ]
  },
  {
   "cell_type": "code",
   "execution_count": 38,
   "metadata": {},
   "outputs": [],
   "source": [
    "df_test = df_test[df_test['price']>0.1]"
   ]
  },
  {
   "cell_type": "markdown",
   "metadata": {},
   "source": [
    "# paranormal_distribution_elisabetta.csv"
   ]
  },
  {
   "cell_type": "code",
   "execution_count": 43,
   "metadata": {},
   "outputs": [],
   "source": [
    "df_paranormal = pd.read_csv(r'esercizio_regressione_soluzioni\\elisabetta\\paranormal_distribution_elisabetta.csv')"
   ]
  },
  {
   "cell_type": "code",
   "execution_count": 45,
   "metadata": {},
   "outputs": [
    {
     "output_type": "execute_result",
     "data": {
      "text/plain": "0.26876548381740356"
     },
     "metadata": {},
     "execution_count": 45
    }
   ],
   "source": [
    "mape(y_true=df_test['price'], y_pred=df_paranormal['price'])"
   ]
  },
  {
   "cell_type": "markdown",
   "metadata": {},
   "source": [
    "# Final test Emanuele"
   ]
  },
  {
   "cell_type": "code",
   "execution_count": 51,
   "metadata": {},
   "outputs": [],
   "source": [
    "df_emanuele = pd.read_csv(r'esercizio_regressione_soluzioni\\emanuele\\Final_test.csv', delimiter=';')"
   ]
  },
  {
   "cell_type": "code",
   "execution_count": 54,
   "metadata": {},
   "outputs": [
    {
     "output_type": "execute_result",
     "data": {
      "text/plain": "0.6808211508033052"
     },
     "metadata": {},
     "execution_count": 54
    }
   ],
   "source": [
    "mape(y_true=df_test['price'], y_pred=df_emanuele['Price'])"
   ]
  },
  {
   "cell_type": "markdown",
   "metadata": {},
   "source": [
    "# Francesco Silvia"
   ]
  },
  {
   "cell_type": "code",
   "execution_count": 55,
   "metadata": {},
   "outputs": [],
   "source": [
    "df_fra_si = pd.read_csv(r'F:\\Documenti\\machine_learning_avanzato\\esercizio_regressione_soluzioni\\francesco_silvia\\PricePredictions_FrancescoSilvia.csv')"
   ]
  },
  {
   "cell_type": "code",
   "execution_count": 57,
   "metadata": {},
   "outputs": [
    {
     "output_type": "execute_result",
     "data": {
      "text/plain": "0.2877087995758822"
     },
     "metadata": {},
     "execution_count": 57
    }
   ],
   "source": [
    "mape(y_true=df_test['price'], y_pred=df_fra_si['price'])"
   ]
  },
  {
   "cell_type": "markdown",
   "metadata": {},
   "source": [
    "# Lucia"
   ]
  },
  {
   "cell_type": "code",
   "execution_count": 58,
   "metadata": {},
   "outputs": [],
   "source": [
    "df_lucia = pd.read_csv(r'F:\\Documenti\\machine_learning_avanzato\\esercizio_regressione_soluzioni\\lucia\\predizioni_lucia.csv')"
   ]
  },
  {
   "cell_type": "code",
   "execution_count": 60,
   "metadata": {},
   "outputs": [
    {
     "output_type": "execute_result",
     "data": {
      "text/plain": "0.1901252191740936"
     },
     "metadata": {},
     "execution_count": 60
    }
   ],
   "source": [
    "mape(y_true=df_test['price'], y_pred=df_lucia['pred'])"
   ]
  },
  {
   "cell_type": "code",
   "execution_count": null,
   "metadata": {},
   "outputs": [],
   "source": []
  }
 ]
}