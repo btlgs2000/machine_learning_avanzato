{
  "nbformat": 4,
  "nbformat_minor": 0,
  "metadata": {
    "colab": {
      "name": "prova_test_master.ipynb",
      "provenance": [],
      "collapsed_sections": []
    },
    "kernelspec": {
      "name": "python3",
      "display_name": "Python 3"
    }
  },
  "cells": [
    {
      "cell_type": "code",
      "metadata": {
        "id": "cfJU0Nvd1Ath",
        "colab_type": "code",
        "colab": {}
      },
      "source": [
        "import pandas as pd\n",
        "import xgboost as xgb\n",
        "from sklearn.model_selection import train_test_split, GridSearchCV, KFold, RandomizedSearchCV\n",
        "from sklearn.pipeline import Pipeline\n",
        "from datetime import datetime\n",
        "from sklearn.metrics import make_scorer\n",
        "import numpy as np"
      ],
      "execution_count": 4,
      "outputs": []
    },
    {
      "cell_type": "markdown",
      "metadata": {
        "id": "LfzfibnE-0Ue",
        "colab_type": "text"
      },
      "source": [
        "Data import"
      ]
    },
    {
      "cell_type": "code",
      "metadata": {
        "id": "Cd9rJFlvelDw",
        "colab_type": "code",
        "colab": {
          "base_uri": "https://localhost:8080/",
          "height": 34
        },
        "outputId": "f3c27534-f20e-460d-9052-36767e679bc4"
      },
      "source": [
        "df_train = pd.read_csv('https://raw.githubusercontent.com/btlgs2000/machine_learning_basic/master/data/houses_train.csv')\n",
        "#elimino i prezzi a zero e gli outlier\n",
        "df_train = df_train.loc[(df_train['price']>df_train['price'].quantile(0.05)) & (df_train['price']<=df_train['price'].quantile(0.95))]\n",
        "df_train.shape"
      ],
      "execution_count": 5,
      "outputs": [
        {
          "output_type": "execute_result",
          "data": {
            "text/plain": [
              "(3308, 19)"
            ]
          },
          "metadata": {
            "tags": []
          },
          "execution_count": 5
        }
      ]
    },
    {
      "cell_type": "code",
      "metadata": {
        "id": "uKRJeZa-UOFl",
        "colab_type": "code",
        "colab": {
          "base_uri": "https://localhost:8080/",
          "height": 34
        },
        "outputId": "2042d64e-ec47-4b6c-c214-93a0c5b55cd5"
      },
      "source": [
        "df_test_final = pd.read_csv('https://raw.githubusercontent.com/btlgs2000/machine_learning_basic/master/data/houses_test_no_price.csv')\n",
        "df_test_final.shape"
      ],
      "execution_count": 6,
      "outputs": [
        {
          "output_type": "execute_result",
          "data": {
            "text/plain": [
              "(920, 18)"
            ]
          },
          "metadata": {
            "tags": []
          },
          "execution_count": 6
        }
      ]
    },
    {
      "cell_type": "code",
      "metadata": {
        "id": "n8G05ijUb1xi",
        "colab_type": "code",
        "colab": {
          "base_uri": "https://localhost:8080/",
          "height": 413
        },
        "outputId": "ab89b696-9c95-447a-f247-930ce390ed15"
      },
      "source": [
        "df_train.head()"
      ],
      "execution_count": 7,
      "outputs": [
        {
          "output_type": "execute_result",
          "data": {
            "text/html": [
              "<div>\n",
              "<style scoped>\n",
              "    .dataframe tbody tr th:only-of-type {\n",
              "        vertical-align: middle;\n",
              "    }\n",
              "\n",
              "    .dataframe tbody tr th {\n",
              "        vertical-align: top;\n",
              "    }\n",
              "\n",
              "    .dataframe thead th {\n",
              "        text-align: right;\n",
              "    }\n",
              "</style>\n",
              "<table border=\"1\" class=\"dataframe\">\n",
              "  <thead>\n",
              "    <tr style=\"text-align: right;\">\n",
              "      <th></th>\n",
              "      <th>id</th>\n",
              "      <th>date</th>\n",
              "      <th>price</th>\n",
              "      <th>bedrooms</th>\n",
              "      <th>bathrooms</th>\n",
              "      <th>sqft_living</th>\n",
              "      <th>sqft_lot</th>\n",
              "      <th>floors</th>\n",
              "      <th>waterfront</th>\n",
              "      <th>view</th>\n",
              "      <th>condition</th>\n",
              "      <th>sqft_above</th>\n",
              "      <th>sqft_basement</th>\n",
              "      <th>yr_built</th>\n",
              "      <th>yr_renovated</th>\n",
              "      <th>street</th>\n",
              "      <th>city</th>\n",
              "      <th>statezip</th>\n",
              "      <th>country</th>\n",
              "    </tr>\n",
              "  </thead>\n",
              "  <tbody>\n",
              "    <tr>\n",
              "      <th>0</th>\n",
              "      <td>2315</td>\n",
              "      <td>2014-06-11 00:00:00</td>\n",
              "      <td>700000.0</td>\n",
              "      <td>3.0</td>\n",
              "      <td>2.75</td>\n",
              "      <td>2500</td>\n",
              "      <td>7378</td>\n",
              "      <td>1.0</td>\n",
              "      <td>0</td>\n",
              "      <td>0</td>\n",
              "      <td>5</td>\n",
              "      <td>1390</td>\n",
              "      <td>1110</td>\n",
              "      <td>1948</td>\n",
              "      <td>1985</td>\n",
              "      <td>10050 11th Ave NW</td>\n",
              "      <td>Seattle</td>\n",
              "      <td>WA 98177</td>\n",
              "      <td>USA</td>\n",
              "    </tr>\n",
              "    <tr>\n",
              "      <th>1</th>\n",
              "      <td>1434</td>\n",
              "      <td>2014-05-28 00:00:00</td>\n",
              "      <td>225000.0</td>\n",
              "      <td>3.0</td>\n",
              "      <td>2.00</td>\n",
              "      <td>2030</td>\n",
              "      <td>24829</td>\n",
              "      <td>1.0</td>\n",
              "      <td>0</td>\n",
              "      <td>0</td>\n",
              "      <td>4</td>\n",
              "      <td>1220</td>\n",
              "      <td>810</td>\n",
              "      <td>1979</td>\n",
              "      <td>0</td>\n",
              "      <td>36721 34th Ave S</td>\n",
              "      <td>Auburn</td>\n",
              "      <td>WA 98001</td>\n",
              "      <td>USA</td>\n",
              "    </tr>\n",
              "    <tr>\n",
              "      <th>2</th>\n",
              "      <td>1412</td>\n",
              "      <td>2014-05-27 00:00:00</td>\n",
              "      <td>754950.0</td>\n",
              "      <td>3.0</td>\n",
              "      <td>2.50</td>\n",
              "      <td>2610</td>\n",
              "      <td>7256</td>\n",
              "      <td>2.0</td>\n",
              "      <td>0</td>\n",
              "      <td>0</td>\n",
              "      <td>3</td>\n",
              "      <td>2610</td>\n",
              "      <td>0</td>\n",
              "      <td>2014</td>\n",
              "      <td>0</td>\n",
              "      <td>12108 NE 106th Pl</td>\n",
              "      <td>Kirkland</td>\n",
              "      <td>WA 98033</td>\n",
              "      <td>USA</td>\n",
              "    </tr>\n",
              "    <tr>\n",
              "      <th>3</th>\n",
              "      <td>3837</td>\n",
              "      <td>2014-07-02 00:00:00</td>\n",
              "      <td>411000.0</td>\n",
              "      <td>4.0</td>\n",
              "      <td>2.00</td>\n",
              "      <td>2370</td>\n",
              "      <td>76665</td>\n",
              "      <td>2.0</td>\n",
              "      <td>0</td>\n",
              "      <td>0</td>\n",
              "      <td>4</td>\n",
              "      <td>2370</td>\n",
              "      <td>0</td>\n",
              "      <td>1978</td>\n",
              "      <td>2000</td>\n",
              "      <td>35516 44th Ave S</td>\n",
              "      <td>Auburn</td>\n",
              "      <td>WA 98001</td>\n",
              "      <td>USA</td>\n",
              "    </tr>\n",
              "    <tr>\n",
              "      <th>4</th>\n",
              "      <td>4267</td>\n",
              "      <td>2014-07-09 00:00:00</td>\n",
              "      <td>215000.0</td>\n",
              "      <td>3.0</td>\n",
              "      <td>1.00</td>\n",
              "      <td>1200</td>\n",
              "      <td>7280</td>\n",
              "      <td>1.0</td>\n",
              "      <td>0</td>\n",
              "      <td>0</td>\n",
              "      <td>4</td>\n",
              "      <td>1200</td>\n",
              "      <td>0</td>\n",
              "      <td>1967</td>\n",
              "      <td>0</td>\n",
              "      <td>4503 S 256th St</td>\n",
              "      <td>Kent</td>\n",
              "      <td>WA 98032</td>\n",
              "      <td>USA</td>\n",
              "    </tr>\n",
              "  </tbody>\n",
              "</table>\n",
              "</div>"
            ],
            "text/plain": [
              "     id                 date     price  ...      city  statezip  country\n",
              "0  2315  2014-06-11 00:00:00  700000.0  ...   Seattle  WA 98177      USA\n",
              "1  1434  2014-05-28 00:00:00  225000.0  ...    Auburn  WA 98001      USA\n",
              "2  1412  2014-05-27 00:00:00  754950.0  ...  Kirkland  WA 98033      USA\n",
              "3  3837  2014-07-02 00:00:00  411000.0  ...    Auburn  WA 98001      USA\n",
              "4  4267  2014-07-09 00:00:00  215000.0  ...      Kent  WA 98032      USA\n",
              "\n",
              "[5 rows x 19 columns]"
            ]
          },
          "metadata": {
            "tags": []
          },
          "execution_count": 7
        }
      ]
    },
    {
      "cell_type": "markdown",
      "metadata": {
        "id": "IF0YlpFv_cRm",
        "colab_type": "text"
      },
      "source": [
        "Data manipulation"
      ]
    },
    {
      "cell_type": "code",
      "metadata": {
        "id": "xA1BkmjUb1Tz",
        "colab_type": "code",
        "colab": {}
      },
      "source": [
        "#trasformo la data in stringa ed estraggo il mese"
      ],
      "execution_count": 8,
      "outputs": []
    },
    {
      "cell_type": "code",
      "metadata": {
        "id": "ZeRtV4VHafMR",
        "colab_type": "code",
        "colab": {}
      },
      "source": [
        "df_train['date'] = df_train['date'].apply(lambda x: datetime.strptime(x, \"%Y-%m-%d %H:%M:%S\"))\n",
        "df_train['mese'] = df_train['date'].dt.month\n",
        "df_test_final['date'] = df_test_final['date'].apply(lambda x: datetime.strptime(x, \"%Y-%m-%d %H:%M:%S\"))\n",
        "df_test_final['mese'] = df_test_final['date'].dt.month"
      ],
      "execution_count": 9,
      "outputs": []
    },
    {
      "cell_type": "code",
      "metadata": {
        "id": "xjXTVDrlfQmP",
        "colab_type": "code",
        "colab": {
          "base_uri": "https://localhost:8080/",
          "height": 34
        },
        "outputId": "3da7b9bc-cd2c-4440-e207-b42105682d3c"
      },
      "source": [
        "df_train.shape, df_test_final.shape"
      ],
      "execution_count": 10,
      "outputs": [
        {
          "output_type": "execute_result",
          "data": {
            "text/plain": [
              "((3308, 20), (920, 19))"
            ]
          },
          "metadata": {
            "tags": []
          },
          "execution_count": 10
        }
      ]
    },
    {
      "cell_type": "code",
      "metadata": {
        "id": "OsXrX4Xo_Q-z",
        "colab_type": "code",
        "colab": {}
      },
      "source": [
        "#creo un test set su cui valutare poi il modello"
      ],
      "execution_count": null,
      "outputs": []
    },
    {
      "cell_type": "code",
      "metadata": {
        "id": "0SzTXlFMUkXw",
        "colab_type": "code",
        "colab": {}
      },
      "source": [
        "X = df_train.drop('price', axis=1)\n",
        "y = df_train['price']\n",
        "X_train, X_test, y_train, y_test = train_test_split(X, y, test_size=0.2, random_state=2019)"
      ],
      "execution_count": 11,
      "outputs": []
    },
    {
      "cell_type": "code",
      "metadata": {
        "id": "t2hpiLzAVJAm",
        "colab_type": "code",
        "colab": {}
      },
      "source": [
        "df_train = pd.concat([X_train, y_train], axis=1)\n",
        "df_test = pd.concat([X_test, y_test], axis=1)"
      ],
      "execution_count": 12,
      "outputs": []
    },
    {
      "cell_type": "code",
      "metadata": {
        "id": "KfuvfJsi6CU3",
        "colab_type": "code",
        "colab": {}
      },
      "source": [
        "#creo una copia per tenere intatto df_train --> mi servirà poi in cv\n",
        "df_train_new = df_train.copy()"
      ],
      "execution_count": 13,
      "outputs": []
    },
    {
      "cell_type": "code",
      "metadata": {
        "id": "nrpPoLs_VhA3",
        "colab_type": "code",
        "colab": {}
      },
      "source": [
        "#funzione per target encoding --> targetizzo alcune categoriche usando i quartili del prezzo (calcolati solo sul train)\n",
        "def quantili_col(df, col, n_quantili):\n",
        "  grouped = pd.DataFrame(df.groupby([col])['price'].agg(['mean', 'count'])).reset_index()\n",
        "  grouped['quantili_'+col] = pd.qcut(grouped['mean'], n_quantili, labels=range(1,n_quantili+1))\n",
        "  return grouped[[col, 'quantili_'+col]]"
      ],
      "execution_count": 15,
      "outputs": []
    },
    {
      "cell_type": "code",
      "metadata": {
        "id": "612qO3rTqdNd",
        "colab_type": "code",
        "colab": {}
      },
      "source": [
        "list_df = [df_train_new, df_test, df_test_final]\n",
        "for i, df in enumerate(list_df):\n",
        "  for col in ['city', 'statezip']:\n",
        "    list_df[i] = list_df[i].merge(quantili_col(df_train, col, 4), on =col, how ='left')\n",
        "    list_df[i]['quantili_'+col]=list_df[i]['quantili_'+col].astype(float)"
      ],
      "execution_count": 16,
      "outputs": []
    },
    {
      "cell_type": "code",
      "metadata": {
        "id": "wAMtd8xcZ25e",
        "colab_type": "code",
        "colab": {}
      },
      "source": [
        "df_train_new, df_test, df_test_final = list_df"
      ],
      "execution_count": 17,
      "outputs": []
    },
    {
      "cell_type": "code",
      "metadata": {
        "id": "bsyL6uGUHjJy",
        "colab_type": "code",
        "colab": {
          "base_uri": "https://localhost:8080/",
          "height": 34
        },
        "outputId": "6cff9c8b-6d3b-4262-fb92-87012193808b"
      },
      "source": [
        "df_train_new.shape, df_test.shape, df_test_final.shape"
      ],
      "execution_count": 18,
      "outputs": [
        {
          "output_type": "execute_result",
          "data": {
            "text/plain": [
              "((2646, 22), (662, 22), (920, 21))"
            ]
          },
          "metadata": {
            "tags": []
          },
          "execution_count": 18
        }
      ]
    },
    {
      "cell_type": "code",
      "metadata": {
        "id": "Zl4CHA4eo01M",
        "colab_type": "code",
        "colab": {}
      },
      "source": [
        "X_train = df_train_new.drop('price', axis=1)\n",
        "y_train = df_train_new['price']\n",
        "X_test = df_test.drop('price', axis=1)\n",
        "y_test = df_test['price']"
      ],
      "execution_count": 19,
      "outputs": []
    },
    {
      "cell_type": "code",
      "metadata": {
        "id": "R8ZUtY_aN6rE",
        "colab_type": "code",
        "colab": {}
      },
      "source": [
        "#droppo le colonne che non uso nel modello da tutti e 3 i dataset che ho a disposizione\n",
        "col_to_remove = ['date', 'country', 'street', 'city', 'statezip', 'id']\n",
        "X_train = X_train.drop(col_to_remove, axis=1)\n",
        "X_test = X_test.drop(col_to_remove, axis=1)\n",
        "df_test_final = df_test_final.drop(col_to_remove, axis=1)"
      ],
      "execution_count": 20,
      "outputs": []
    },
    {
      "cell_type": "code",
      "metadata": {
        "id": "Pop7EVOa5LEa",
        "colab_type": "code",
        "colab": {
          "base_uri": "https://localhost:8080/",
          "height": 34
        },
        "outputId": "bba720b1-ec30-4b93-fe7f-19b59a7d9c28"
      },
      "source": [
        "X_train.shape, y_train.shape"
      ],
      "execution_count": 21,
      "outputs": [
        {
          "output_type": "execute_result",
          "data": {
            "text/plain": [
              "((2646, 15), (2646,))"
            ]
          },
          "metadata": {
            "tags": []
          },
          "execution_count": 21
        }
      ]
    },
    {
      "cell_type": "markdown",
      "metadata": {
        "id": "_ZZyiQqLAMg1",
        "colab_type": "text"
      },
      "source": [
        "RandomSearch and model building "
      ]
    },
    {
      "cell_type": "code",
      "metadata": {
        "id": "yAxccE6wBdyX",
        "colab_type": "code",
        "colab": {}
      },
      "source": [
        "param_dist = {\"learning_rate\": [0.2, 0.3, 0.1, 0.01, 0.001],\n",
        "                   \"gamma\" : [0.01, 0.1, 0.3, 0.5, 1, 1.5, 2],\n",
        "                   \"max_depth\": [1, 2, 4, 7, 10],\n",
        "                   \"colsample_bytree\": [0.3, 0.6, 0.8, 1.0, 1.2, 1.4],\n",
        "                   \"subsample\": [0.2, 0.4, 0.5, 0.6, 0.7],\n",
        "                   \"reg_alpha\": [0, 0.5, 1],\n",
        "                   \"reg_lambda\": [1, 1.5, 2, 3, 4.5],\n",
        "                   \"min_child_weight\": [1, 3, 5, 7],\n",
        "                   \"n_estimators\": [50, 70, 100, 250, 500, 1000]\n",
        "                 }"
      ],
      "execution_count": 22,
      "outputs": []
    },
    {
      "cell_type": "code",
      "metadata": {
        "id": "b5aOT-cBv19h",
        "colab_type": "code",
        "colab": {}
      },
      "source": [
        "xgb_model= xgb.XGBRegressor()"
      ],
      "execution_count": 23,
      "outputs": []
    },
    {
      "cell_type": "code",
      "metadata": {
        "id": "zmYCAeTgkdws",
        "colab_type": "code",
        "colab": {}
      },
      "source": [
        "def mape(y_true, y_pred):\n",
        "  return (np.abs((y_true - y_pred)/(y_true+1))).mean()\n",
        "\n",
        "mape_scorer = make_scorer(mape, greater_is_better=False)"
      ],
      "execution_count": 24,
      "outputs": []
    },
    {
      "cell_type": "code",
      "metadata": {
        "id": "-x767UMDvvyr",
        "colab_type": "code",
        "colab": {}
      },
      "source": [
        "folds = 5\n",
        "param_comb = 5\n",
        "\n",
        "kf = KFold(n_splits=folds, shuffle = True, random_state = 2019)\n",
        "\n",
        "random_search = RandomizedSearchCV(xgb_model, param_distributions=param_dist, n_iter=param_comb, scoring=mape_scorer, n_jobs=-1, cv=kf.split(X_train,y_train), verbose=3, random_state=40)"
      ],
      "execution_count": 25,
      "outputs": []
    },
    {
      "cell_type": "code",
      "metadata": {
        "id": "NIjrnKsgB0dj",
        "colab_type": "code",
        "colab": {
          "base_uri": "https://localhost:8080/",
          "height": 210
        },
        "outputId": "d6bcc9aa-a34e-4eaa-833f-e9ca6982eae5"
      },
      "source": [
        "random_search.fit(X_train.values, y_train.values)\n",
        "\n",
        "print('\\n Best normalized score for %d-fold search:' % (folds))\n",
        "print(random_search.best_score_)\n",
        "print('\\n Best hyperparameters:')\n",
        "print(random_search.best_estimator_.get_params())"
      ],
      "execution_count": 26,
      "outputs": [
        {
          "output_type": "stream",
          "text": [
            "Fitting 5 folds for each of 5 candidates, totalling 25 fits\n"
          ],
          "name": "stdout"
        },
        {
          "output_type": "stream",
          "text": [
            "[Parallel(n_jobs=-1)]: Using backend LokyBackend with 2 concurrent workers.\n",
            "[Parallel(n_jobs=-1)]: Done  25 out of  25 | elapsed:   23.4s finished\n"
          ],
          "name": "stderr"
        },
        {
          "output_type": "stream",
          "text": [
            "[05:45:29] WARNING: /workspace/src/objective/regression_obj.cu:152: reg:linear is now deprecated in favor of reg:squarederror.\n",
            "\n",
            " Best normalized score for 5-fold search:\n",
            "-0.15537763102108482\n",
            "\n",
            " Best hyperparameters:\n",
            "{'base_score': 0.5, 'booster': 'gbtree', 'colsample_bylevel': 1, 'colsample_bynode': 1, 'colsample_bytree': 0.8, 'gamma': 1, 'importance_type': 'gain', 'learning_rate': 0.01, 'max_delta_step': 0, 'max_depth': 4, 'min_child_weight': 1, 'missing': None, 'n_estimators': 1000, 'n_jobs': 1, 'nthread': None, 'objective': 'reg:linear', 'random_state': 0, 'reg_alpha': 0.5, 'reg_lambda': 2, 'scale_pos_weight': 1, 'seed': None, 'silent': None, 'subsample': 0.2, 'verbosity': 1}\n"
          ],
          "name": "stdout"
        }
      ]
    },
    {
      "cell_type": "code",
      "metadata": {
        "id": "HkbKBOMD0Txo",
        "colab_type": "code",
        "colab": {}
      },
      "source": [
        "params = {'base_score': 0.5, \n",
        "          'booster': 'gbtree', \n",
        "          'colsample_bylevel': 1, \n",
        "          'colsample_bynode': 1, \n",
        "          'colsample_bytree': 0.8, \n",
        "          'gamma': 1, \n",
        "          'importance_type': 'gain', \n",
        "          'learning_rate': 0.01, \n",
        "          'max_delta_step': 0, \n",
        "          'max_depth': 4, \n",
        "          'min_child_weight': 1, \n",
        "          'missing': None, \n",
        "          'n_estimators': 1000, \n",
        "          'n_jobs': -1, \n",
        "          'nthread': None, \n",
        "          'objective': 'reg:linear', \n",
        "          'random_state': 2019, \n",
        "          'reg_alpha': 0.5, \n",
        "          'reg_lambda': 2, \n",
        "          'scale_pos_weight': 1, \n",
        "          'subsample': 0.2, \n",
        "          'verbosity': 1}"
      ],
      "execution_count": 27,
      "outputs": []
    },
    {
      "cell_type": "markdown",
      "metadata": {
        "id": "_8nOmEtJG9Sk",
        "colab_type": "text"
      },
      "source": [
        "Model testing in 5folds cv"
      ]
    },
    {
      "cell_type": "code",
      "metadata": {
        "id": "qDkOBHtanxfA",
        "colab_type": "code",
        "colab": {
          "base_uri": "https://localhost:8080/",
          "height": 104
        },
        "outputId": "8d0599cd-87b9-4309-a420-09f81b07e48b"
      },
      "source": [
        "scores = []\n",
        "for train_index, test_index in kf.split(df_train.values):\n",
        "  df_tr, df_te = df_train.iloc[train_index], df_train.iloc[test_index]\n",
        "\n",
        "  list_df = [df_tr, df_te]\n",
        "  for i, df in enumerate(list_df):\n",
        "    for col in ['city', 'statezip']:\n",
        "      list_df[i] = list_df[i].merge(quantili_col(df_tr, col, 4), on =col, how ='left')\n",
        "      list_df[i]['quantili_'+col]=list_df[i]['quantili_'+col].astype(float)\n",
        "    \n",
        "  df_tr, df_te = list_df\n",
        "  \n",
        "  y_tr = df_tr['price']\n",
        "  y_te = df_te['price']\n",
        "  X_tr = df_tr.drop('price', axis=1)\n",
        "  X_te = df_te.drop('price', axis=1)\n",
        "\n",
        "  #print(X_tr.columns)\n",
        "  X_tr = X_tr.drop(col_to_remove, axis=1)\n",
        "  X_te = X_te.drop(col_to_remove, axis=1)\n",
        "\n",
        "  xgb_model = xgb.XGBRegressor(**params)\n",
        "  xgb_model.fit(X_tr.values, y_tr.values)\n",
        "    \n",
        "  y_pred = xgb_model.predict(X_te.values)\n",
        "  scores.append(mape(y_te.values, y_pred))\n"
      ],
      "execution_count": 28,
      "outputs": [
        {
          "output_type": "stream",
          "text": [
            "[06:14:22] WARNING: /workspace/src/objective/regression_obj.cu:152: reg:linear is now deprecated in favor of reg:squarederror.\n",
            "[06:14:24] WARNING: /workspace/src/objective/regression_obj.cu:152: reg:linear is now deprecated in favor of reg:squarederror.\n",
            "[06:14:26] WARNING: /workspace/src/objective/regression_obj.cu:152: reg:linear is now deprecated in favor of reg:squarederror.\n",
            "[06:14:27] WARNING: /workspace/src/objective/regression_obj.cu:152: reg:linear is now deprecated in favor of reg:squarederror.\n",
            "[06:14:29] WARNING: /workspace/src/objective/regression_obj.cu:152: reg:linear is now deprecated in favor of reg:squarederror.\n"
          ],
          "name": "stdout"
        }
      ]
    },
    {
      "cell_type": "code",
      "metadata": {
        "id": "UsmL70e4wlmb",
        "colab_type": "code",
        "colab": {
          "base_uri": "https://localhost:8080/",
          "height": 34
        },
        "outputId": "d3a42379-3a08-493d-f963-240ca1cffe9d"
      },
      "source": [
        "np.mean(scores)"
      ],
      "execution_count": 29,
      "outputs": [
        {
          "output_type": "execute_result",
          "data": {
            "text/plain": [
              "0.1570952990016222"
            ]
          },
          "metadata": {
            "tags": []
          },
          "execution_count": 29
        }
      ]
    },
    {
      "cell_type": "code",
      "metadata": {
        "id": "jgnuTHVxHQg_",
        "colab_type": "code",
        "colab": {}
      },
      "source": [
        ""
      ],
      "execution_count": null,
      "outputs": []
    },
    {
      "cell_type": "markdown",
      "metadata": {
        "id": "85Q2vGYxHSP9",
        "colab_type": "text"
      },
      "source": [
        "Layer esplicativo"
      ]
    },
    {
      "cell_type": "code",
      "metadata": {
        "id": "_b_Scq0jee4-",
        "colab_type": "code",
        "colab": {
          "base_uri": "https://localhost:8080/",
          "height": 512
        },
        "outputId": "f0e99961-473f-4da2-90fb-669ee26f4b00"
      },
      "source": [
        "#!pip3 install shap\n",
        "import shap\n",
        "## model\n",
        "xgb_model = xgb.XGBRegressor(**params)\n",
        "xgb_model.fit(X_train.values, y_train.values)\n",
        "## explainer\n",
        "explainer = shap.TreeExplainer(xgb_model)\n",
        "#\n",
        "## compute shap values\n",
        "shap_values = explainer.shap_values(X_train)\n",
        "## shap_values = explainer.shap_values(df_train[x_columns])\n",
        "#\n",
        "## summarize the effects of all the features\n",
        "shap.summary_plot(shap_values, X_train, feature_names=X_train.columns, max_display = int(X_train.shape[0]))"
      ],
      "execution_count": 32,
      "outputs": [
        {
          "output_type": "stream",
          "text": [
            "[06:15:18] WARNING: /workspace/src/objective/regression_obj.cu:152: reg:linear is now deprecated in favor of reg:squarederror.\n"
          ],
          "name": "stdout"
        },
        {
          "output_type": "stream",
          "text": [
            "Setting feature_perturbation = \"tree_path_dependent\" because no background data was given.\n"
          ],
          "name": "stderr"
        },
        {
          "output_type": "display_data",
          "data": {
            "image/png": "[encoded data removed]",
            "text/plain": [
              "<Figure size 576x540 with 2 Axes>"
            ]
          },
          "metadata": {
            "tags": [],
            "needs_background": "light"
          }
        }
      ]
    },
    {
      "cell_type": "code",
      "metadata": {
        "id": "MXWE4GPEHXF2",
        "colab_type": "code",
        "colab": {}
      },
      "source": [
        ""
      ],
      "execution_count": null,
      "outputs": []
    },
    {
      "cell_type": "markdown",
      "metadata": {
        "id": "TJdb1h98HZ8K",
        "colab_type": "text"
      },
      "source": [
        "Model performance -- test set"
      ]
    },
    {
      "cell_type": "code",
      "metadata": {
        "id": "PutGMNgRrcuc",
        "colab_type": "code",
        "colab": {}
      },
      "source": [
        "y_pred = xgb_model.predict(X_test.values)"
      ],
      "execution_count": 33,
      "outputs": []
    },
    {
      "cell_type": "code",
      "metadata": {
        "id": "0xPRGaPssCXa",
        "colab_type": "code",
        "colab": {
          "base_uri": "https://localhost:8080/",
          "height": 34
        },
        "outputId": "b86542d0-2652-4f2c-92ca-6e6a54cd2f92"
      },
      "source": [
        "mape(y_test, y_pred)"
      ],
      "execution_count": 34,
      "outputs": [
        {
          "output_type": "execute_result",
          "data": {
            "text/plain": [
              "0.15581706537967868"
            ]
          },
          "metadata": {
            "tags": []
          },
          "execution_count": 34
        }
      ]
    },
    {
      "cell_type": "markdown",
      "metadata": {
        "id": "DNXC4pf6Hfsf",
        "colab_type": "text"
      },
      "source": [
        "Results"
      ]
    },
    {
      "cell_type": "code",
      "metadata": {
        "id": "Hin6TYrtsK7E",
        "colab_type": "code",
        "colab": {
          "base_uri": "https://localhost:8080/",
          "height": 34
        },
        "outputId": "9098ed8d-a36b-4188-d84f-7b9ae4faea35"
      },
      "source": [
        "y_pred_final = xgb_model.predict(df_test_final.values)\n",
        "y_pred_final.shape"
      ],
      "execution_count": 35,
      "outputs": [
        {
          "output_type": "execute_result",
          "data": {
            "text/plain": [
              "(920,)"
            ]
          },
          "metadata": {
            "tags": []
          },
          "execution_count": 35
        }
      ]
    },
    {
      "cell_type": "code",
      "metadata": {
        "id": "Uo7hjVUuHaKD",
        "colab_type": "code",
        "colab": {}
      },
      "source": [
        "pred = pd.DataFrame(y_pred_final)\n",
        "pred.rename(columns={0: 'pred'}, inplace=True)"
      ],
      "execution_count": 36,
      "outputs": []
    },
    {
      "cell_type": "code",
      "metadata": {
        "id": "7HxKAr86d3on",
        "colab_type": "code",
        "colab": {}
      },
      "source": [
        "df_test_final_id = pd.read_csv('https://raw.githubusercontent.com/btlgs2000/machine_learning_basic/master/data/houses_test_no_price.csv')['id']"
      ],
      "execution_count": 37,
      "outputs": []
    },
    {
      "cell_type": "code",
      "metadata": {
        "id": "cWqdxpEtd7qD",
        "colab_type": "code",
        "colab": {}
      },
      "source": [
        "df_final = pd.concat([df_test_final_id, pred], axis=1)"
      ],
      "execution_count": 39,
      "outputs": []
    },
    {
      "cell_type": "code",
      "metadata": {
        "id": "txqUUmZqHte9",
        "colab_type": "code",
        "colab": {
          "base_uri": "https://localhost:8080/",
          "height": 202
        },
        "outputId": "1b4c1b24-f7da-4719-a2e8-ef7b499770fc"
      },
      "source": [
        "df_final.head()"
      ],
      "execution_count": 41,
      "outputs": [
        {
          "output_type": "execute_result",
          "data": {
            "text/html": [
              "<div>\n",
              "<style scoped>\n",
              "    .dataframe tbody tr th:only-of-type {\n",
              "        vertical-align: middle;\n",
              "    }\n",
              "\n",
              "    .dataframe tbody tr th {\n",
              "        vertical-align: top;\n",
              "    }\n",
              "\n",
              "    .dataframe thead th {\n",
              "        text-align: right;\n",
              "    }\n",
              "</style>\n",
              "<table border=\"1\" class=\"dataframe\">\n",
              "  <thead>\n",
              "    <tr style=\"text-align: right;\">\n",
              "      <th></th>\n",
              "      <th>id</th>\n",
              "      <th>pred</th>\n",
              "    </tr>\n",
              "  </thead>\n",
              "  <tbody>\n",
              "    <tr>\n",
              "      <th>0</th>\n",
              "      <td>858</td>\n",
              "      <td>599650.06250</td>\n",
              "    </tr>\n",
              "    <tr>\n",
              "      <th>1</th>\n",
              "      <td>1874</td>\n",
              "      <td>748028.00000</td>\n",
              "    </tr>\n",
              "    <tr>\n",
              "      <th>2</th>\n",
              "      <td>918</td>\n",
              "      <td>286206.71875</td>\n",
              "    </tr>\n",
              "    <tr>\n",
              "      <th>3</th>\n",
              "      <td>475</td>\n",
              "      <td>435096.34375</td>\n",
              "    </tr>\n",
              "    <tr>\n",
              "      <th>4</th>\n",
              "      <td>2466</td>\n",
              "      <td>431433.68750</td>\n",
              "    </tr>\n",
              "  </tbody>\n",
              "</table>\n",
              "</div>"
            ],
            "text/plain": [
              "     id          pred\n",
              "0   858  599650.06250\n",
              "1  1874  748028.00000\n",
              "2   918  286206.71875\n",
              "3   475  435096.34375\n",
              "4  2466  431433.68750"
            ]
          },
          "metadata": {
            "tags": []
          },
          "execution_count": 41
        }
      ]
    },
    {
      "cell_type": "code",
      "metadata": {
        "id": "lM8Oce1jeD0w",
        "colab_type": "code",
        "colab": {}
      },
      "source": [
        "df_final.to_csv('predizioni_lucia.csv')"
      ],
      "execution_count": 40,
      "outputs": []
    },
    {
      "cell_type": "code",
      "metadata": {
        "id": "KAYe-EYaHo_o",
        "colab_type": "code",
        "colab": {}
      },
      "source": [
        ""
      ],
      "execution_count": null,
      "outputs": []
    }
  ]
}