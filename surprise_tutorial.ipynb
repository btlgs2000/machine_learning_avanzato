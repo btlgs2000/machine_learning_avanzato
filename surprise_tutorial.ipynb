{
  "nbformat": 4,
  "nbformat_minor": 0,
  "metadata": {
    "colab": {
      "name": "surpriese_tutorial.ipynb",
      "provenance": [],
      "collapsed_sections": []
    },
    "kernelspec": {
      "name": "python3",
      "display_name": "Python 3"
    }
  },
  "cells": [
    {
      "cell_type": "code",
      "metadata": {
        "id": "amJwmylWY11F",
        "colab_type": "code",
        "colab": {}
      },
      "source": [
        "!pip install surprise"
      ],
      "execution_count": null,
      "outputs": []
    },
    {
      "cell_type": "code",
      "metadata": {
        "id": "oHYEOMVsWcN0",
        "colab_type": "code",
        "colab": {}
      },
      "source": [
        "import surprise\n",
        "from surprise.prediction_algorithms.baseline_only import BaselineOnly\n",
        "from surprise.model_selection import train_test_split\n",
        "from surprise.prediction_algorithms.knns import KNNBaseline"
      ],
      "execution_count": null,
      "outputs": []
    },
    {
      "cell_type": "markdown",
      "metadata": {
        "id": "YZINpy16ZB6F",
        "colab_type": "text"
      },
      "source": [
        "# Caricamento dei dati"
      ]
    },
    {
      "cell_type": "code",
      "metadata": {
        "id": "k0lo3W58ZAgP",
        "colab_type": "code",
        "colab": {}
      },
      "source": [
        "from surprise import Dataset"
      ],
      "execution_count": null,
      "outputs": []
    },
    {
      "cell_type": "code",
      "metadata": {
        "id": "RsuSNm_XZA6z",
        "colab_type": "code",
        "colab": {}
      },
      "source": [
        "movielens = Dataset.load_builtin('ml-100k')"
      ],
      "execution_count": null,
      "outputs": []
    },
    {
      "cell_type": "code",
      "metadata": {
        "id": "YKjFunlLFvGD",
        "colab_type": "code",
        "colab": {}
      },
      "source": [
        "train_set, test_set = train_test_split(movielens)"
      ],
      "execution_count": null,
      "outputs": []
    },
    {
      "cell_type": "code",
      "metadata": {
        "id": "-5_HGoJiF1zd",
        "colab_type": "code",
        "colab": {}
      },
      "source": [
        "knn_algo =  KNNBaseline(sim_options={'name': 'cosine', 'user_based': True})"
      ],
      "execution_count": null,
      "outputs": []
    },
    {
      "cell_type": "code",
      "metadata": {
        "id": "cGANFrEyF4QX",
        "colab_type": "code",
        "colab": {
          "base_uri": "https://localhost:8080/",
          "height": 84
        },
        "outputId": "8d4626c2-3ad7-4a11-fa35-20f6bb7dd7e1"
      },
      "source": [
        "knn_algo.fit(train_set)"
      ],
      "execution_count": null,
      "outputs": [
        {
          "output_type": "stream",
          "text": [
            "Estimating biases using als...\n",
            "Computing the cosine similarity matrix...\n",
            "Done computing similarity matrix.\n"
          ],
          "name": "stdout"
        },
        {
          "output_type": "execute_result",
          "data": {
            "text/plain": [
              "<surprise.prediction_algorithms.knns.KNNBaseline at 0x7f2fcc54e240>"
            ]
          },
          "metadata": {
            "tags": []
          },
          "execution_count": 61
        }
      ]
    },
    {
      "cell_type": "code",
      "metadata": {
        "id": "5nncfG6KG588",
        "colab_type": "code",
        "colab": {
          "base_uri": "https://localhost:8080/",
          "height": 33
        },
        "outputId": "d74872e2-c330-4784-ece0-9e101a390aa1"
      },
      "source": [
        "train_set.rating_scale"
      ],
      "execution_count": null,
      "outputs": [
        {
          "output_type": "execute_result",
          "data": {
            "text/plain": [
              "(1, 5)"
            ]
          },
          "metadata": {
            "tags": []
          },
          "execution_count": 59
        }
      ]
    },
    {
      "cell_type": "code",
      "metadata": {
        "id": "nHDj0_9RIgnz",
        "colab_type": "code",
        "colab": {}
      },
      "source": [
        "predictions = knn_algo.test(test_set)"
      ],
      "execution_count": null,
      "outputs": []
    },
    {
      "cell_type": "code",
      "metadata": {
        "id": "v_gcq9_HJI1d",
        "colab_type": "code",
        "colab": {
          "base_uri": "https://localhost:8080/",
          "height": 100
        },
        "outputId": "1b340dce-ed0b-447b-e890-2228ae428ff3"
      },
      "source": [
        "predictions[:5]"
      ],
      "execution_count": null,
      "outputs": [
        {
          "output_type": "execute_result",
          "data": {
            "text/plain": [
              "[Prediction(uid='615', iid='387', r_ui=3.0, est=3.7123901094324854, details={'actual_k': 40, 'was_impossible': False}),\n",
              " Prediction(uid='415', iid='322', r_ui=4.0, est=3.1885773729659537, details={'actual_k': 40, 'was_impossible': False}),\n",
              " Prediction(uid='781', iid='87', r_ui=4.0, est=3.920778497829845, details={'actual_k': 40, 'was_impossible': False}),\n",
              " Prediction(uid='111', iid='321', r_ui=3.0, est=3.2601963245332115, details={'actual_k': 40, 'was_impossible': False}),\n",
              " Prediction(uid='887', iid='109', r_ui=5.0, est=3.799442120428578, details={'actual_k': 40, 'was_impossible': False})]"
            ]
          },
          "metadata": {
            "tags": []
          },
          "execution_count": 64
        }
      ]
    },
    {
      "cell_type": "code",
      "metadata": {
        "id": "CzouXnbSJLAu",
        "colab_type": "code",
        "colab": {}
      },
      "source": [
        ""
      ],
      "execution_count": null,
      "outputs": []
    }
  ]
}