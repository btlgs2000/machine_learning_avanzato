{
  "nbformat": 4,
  "nbformat_minor": 0,
  "metadata": {
    "colab": {
      "name": "surpriese_tutorial.ipynb",
      "provenance": [],
      "collapsed_sections": []
    },
    "kernelspec": {
      "name": "python3",
      "display_name": "Python 3"
    }
  },
  "cells": [
    {
      "cell_type": "code",
      "metadata": {
        "id": "amJwmylWY11F",
        "colab_type": "code",
        "colab": {}
      },
      "source": [
        "!pip install surprise"
      ],
      "execution_count": null,
      "outputs": []
    },
    {
      "cell_type": "code",
      "metadata": {
        "id": "oHYEOMVsWcN0",
        "colab_type": "code",
        "colab": {}
      },
      "source": [
        "import surprise\n",
        "from surprise.prediction_algorithms.baseline_only import BaselineOnly\n",
        "from surprise.model_selection import train_test_split\n",
        "from surprise.model_selection.search import GridSearchCV\n",
        "from surprise.prediction_algorithms.knns import KNNBaseline, KNNBasic\n",
        "from surprise.accuracy import mae\n",
        "from surprise.prediction_algorithms.matrix_factorization import SVD\n",
        "from surprise.reader import Reader\n",
        "import pandas as pd"
      ],
      "execution_count": null,
      "outputs": []
    },
    {
      "cell_type": "markdown",
      "metadata": {
        "id": "YZINpy16ZB6F",
        "colab_type": "text"
      },
      "source": [
        "# Caricamento dei dati"
      ]
    },
    {
      "cell_type": "code",
      "metadata": {
        "id": "k0lo3W58ZAgP",
        "colab_type": "code",
        "colab": {}
      },
      "source": [
        "from surprise import Dataset"
      ],
      "execution_count": null,
      "outputs": []
    },
    {
      "cell_type": "code",
      "metadata": {
        "id": "RsuSNm_XZA6z",
        "colab_type": "code",
        "colab": {}
      },
      "source": [
        "movielens = Dataset.load_builtin('ml-100k')"
      ],
      "execution_count": null,
      "outputs": []
    },
    {
      "cell_type": "code",
      "metadata": {
        "id": "YKjFunlLFvGD",
        "colab_type": "code",
        "colab": {}
      },
      "source": [
        "train_set, test_set = train_test_split(movielens)"
      ],
      "execution_count": null,
      "outputs": []
    },
    {
      "cell_type": "code",
      "execution_count": null,
      "metadata": {
        "tags": []
      },
      "outputs": [],
      "source": [
        "for i, (uid, iid, rating) in enumerate(train_set.all_ratings()):\n",
        "    print(train_set.to_raw_iid(uid), train_set.to_raw_iid(iid), rating)\n",
        "    if i > 10:\n",
        "        break"
      ]
    },
    {
      "cell_type": "code",
      "execution_count": null,
      "metadata": {
        "tags": []
      },
      "outputs": [],
      "source": [
        "for i, (uid, iid, rating) in enumerate(train_set.all_ratings()):\n",
        "    print(uid, iid, rating)\n",
        "    if i > 10:\n",
        "        break"
      ]
    },
    {
      "cell_type": "code",
      "execution_count": null,
      "metadata": {},
      "outputs": [],
      "source": [
        "bo_algo = BaselineOnly()"
      ]
    },
    {
      "cell_type": "code",
      "execution_count": null,
      "metadata": {
        "tags": []
      },
      "outputs": [],
      "source": [
        "bo_algo.fit(train_set)"
      ]
    },
    {
      "cell_type": "code",
      "execution_count": null,
      "metadata": {},
      "outputs": [],
      "source": [
        "preds = bo_algo.test(test_set)"
      ]
    },
    {
      "cell_type": "code",
      "execution_count": null,
      "metadata": {
        "tags": []
      },
      "outputs": [],
      "source": [
        "mae(preds)"
      ]
    },
    {
      "cell_type": "code",
      "metadata": {
        "id": "-5_HGoJiF1zd",
        "colab_type": "code",
        "colab": {}
      },
      "source": [
        "knn_algo =  KNNBaseline(sim_options={'name': 'cosine', 'user_based': True})"
      ],
      "execution_count": null,
      "outputs": []
    },
    {
      "cell_type": "code",
      "metadata": {
        "id": "cGANFrEyF4QX",
        "colab_type": "code",
        "colab": {
          "base_uri": "https://localhost:8080/",
          "height": 84
        },
        "outputId": "8d4626c2-3ad7-4a11-fa35-20f6bb7dd7e1",
        "tags": []
      },
      "source": [
        "knn_algo.fit(train_set)"
      ],
      "execution_count": null,
      "outputs": []
    },
    {
      "cell_type": "code",
      "metadata": {
        "id": "5nncfG6KG588",
        "colab_type": "code",
        "colab": {
          "base_uri": "https://localhost:8080/",
          "height": 33
        },
        "outputId": "d74872e2-c330-4784-ece0-9e101a390aa1"
      },
      "source": [
        "preds = knn_algo.test(test_set)"
      ],
      "execution_count": null,
      "outputs": []
    },
    {
      "cell_type": "code",
      "metadata": {
        "id": "nHDj0_9RIgnz",
        "colab_type": "code",
        "colab": {},
        "tags": []
      },
      "source": [
        "mae(preds)"
      ],
      "execution_count": null,
      "outputs": []
    },
    {
      "cell_type": "code",
      "execution_count": null,
      "metadata": {},
      "outputs": [],
      "source": [
        "svd_algo = SVD()"
      ]
    },
    {
      "cell_type": "code",
      "execution_count": null,
      "metadata": {},
      "outputs": [],
      "source": [
        "svd_algo.fit(train_set)"
      ]
    },
    {
      "cell_type": "code",
      "execution_count": null,
      "metadata": {},
      "outputs": [],
      "source": [
        "preds = svd_algo.test(test_set)"
      ]
    },
    {
      "cell_type": "code",
      "execution_count": null,
      "metadata": {
        "tags": []
      },
      "outputs": [],
      "source": [
        "mae(preds)"
      ]
    },
    {
      "cell_type": "code",
      "execution_count": null,
      "metadata": {},
      "outputs": [],
      "source": []
    },
    {
      "cell_type": "markdown",
      "metadata": {},
      "source": [
        "# Importazione dataset"
      ]
    },
    {
      "cell_type": "code",
      "execution_count": 98,
      "metadata": {},
      "outputs": [],
      "source": [
        "df = pd.read_csv(r'F:\\Documenti\\machine_learning_avanzato\\data\\BX-Book-Ratings_train.csv', sep=',', names=['user', 'item', 'rating'], skiprows=1, quotechar='\"')"
      ]
    },
    {
      "cell_type": "code",
      "execution_count": 99,
      "metadata": {},
      "outputs": [
        {
          "output_type": "execute_result",
          "data": {
            "text/plain": "           user         item  rating\n268898    62426   0380815575       0\n522944   126736   0590456741       0\n816339   198711   0135663806       0\n647490   156398  01402.66771       7\n1042345  249624   0843941502       5\n...         ...          ...     ...\n569449   136473   0786001437       0\n344428    82131   074932130X       6\n781085   189334   0425172996       0\n900606   217921   8432206237       0\n382903    92810   059035342X       7\n\n[919823 rows x 3 columns]",
            "text/html": "<div>\n<style scoped>\n    .dataframe tbody tr th:only-of-type {\n        vertical-align: middle;\n    }\n\n    .dataframe tbody tr th {\n        vertical-align: top;\n    }\n\n    .dataframe thead th {\n        text-align: right;\n    }\n</style>\n<table border=\"1\" class=\"dataframe\">\n  <thead>\n    <tr style=\"text-align: right;\">\n      <th></th>\n      <th>user</th>\n      <th>item</th>\n      <th>rating</th>\n    </tr>\n  </thead>\n  <tbody>\n    <tr>\n      <th>268898</th>\n      <td>62426</td>\n      <td>0380815575</td>\n      <td>0</td>\n    </tr>\n    <tr>\n      <th>522944</th>\n      <td>126736</td>\n      <td>0590456741</td>\n      <td>0</td>\n    </tr>\n    <tr>\n      <th>816339</th>\n      <td>198711</td>\n      <td>0135663806</td>\n      <td>0</td>\n    </tr>\n    <tr>\n      <th>647490</th>\n      <td>156398</td>\n      <td>01402.66771</td>\n      <td>7</td>\n    </tr>\n    <tr>\n      <th>1042345</th>\n      <td>249624</td>\n      <td>0843941502</td>\n      <td>5</td>\n    </tr>\n    <tr>\n      <th>...</th>\n      <td>...</td>\n      <td>...</td>\n      <td>...</td>\n    </tr>\n    <tr>\n      <th>569449</th>\n      <td>136473</td>\n      <td>0786001437</td>\n      <td>0</td>\n    </tr>\n    <tr>\n      <th>344428</th>\n      <td>82131</td>\n      <td>074932130X</td>\n      <td>6</td>\n    </tr>\n    <tr>\n      <th>781085</th>\n      <td>189334</td>\n      <td>0425172996</td>\n      <td>0</td>\n    </tr>\n    <tr>\n      <th>900606</th>\n      <td>217921</td>\n      <td>8432206237</td>\n      <td>0</td>\n    </tr>\n    <tr>\n      <th>382903</th>\n      <td>92810</td>\n      <td>059035342X</td>\n      <td>7</td>\n    </tr>\n  </tbody>\n</table>\n<p>919823 rows × 3 columns</p>\n</div>"
          },
          "metadata": {},
          "execution_count": 99
        }
      ],
      "source": [
        "df"
      ]
    }
  ]
}