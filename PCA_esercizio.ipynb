{
  "cells": [
    {
      "cell_type": "code",
      "metadata": {
        "id": "vh9HI-6-sEuK",
        "colab_type": "code",
        "colab": {}
      },
      "source": [
        "import numpy as np\n",
        "import matplotlib.pyplot as plt\n",
        "from sklearn.decomposition import PCA\n",
        "import matplotlib.pyplot as plt\n",
        "from sklearn.pipeline import Pipeline\n",
        "from sklearn.preprocessing import StandardScaler\n",
        "from sklearn import neighbors\n",
        "from sklearn.model_selection import GridSearchCV"
      ],
      "execution_count": null,
      "outputs": []
    },
    {
      "cell_type": "code",
      "metadata": {
        "id": "46NCQESfx7-S",
        "colab_type": "code",
        "colab": {}
      },
      "source": [
        "! wget https://www.dropbox.com/s/mw6ctze0ikcuqt4/mnist_train.csv?dl=0 -O mnist_train.csv"
      ],
      "execution_count": null,
      "outputs": []
    },
    {
      "cell_type": "code",
      "metadata": {
        "id": "UGuK1UTQyThj",
        "colab_type": "code",
        "colab": {}
      },
      "source": [
        "! wget https://www.dropbox.com/s/e8n5v1sea2housp/mnist_test.csv?dl=0 -O mnist_test.csv"
      ],
      "execution_count": null,
      "outputs": []
    },
    {
      "cell_type": "code",
      "metadata": {
        "id": "Em4jFwKCyVrC",
        "colab_type": "code",
        "colab": {}
      },
      "source": [
        "train_data = np.loadtxt(\"mnist_train.csv\", \n",
        "                        delimiter=\",\")\n",
        "test_data = np.loadtxt(\"mnist_test.csv\", \n",
        "                       delimiter=\",\")"
      ],
      "execution_count": null,
      "outputs": []
    },
    {
      "cell_type": "code",
      "metadata": {
        "id": "upeZKbFDyYUJ",
        "colab_type": "code",
        "colab": {}
      },
      "source": [
        "test_labels = test_data[:, 0].astype(int)\n",
        "test_images = test_data[:, 1:].reshape(-1, 28*28) / 255.\n",
        "train_labels = train_data[:, 0].astype(int)\n",
        "train_images = train_data[:, 1:].reshape(-1, 28*28) / 255."
      ],
      "execution_count": null,
      "outputs": []
    },
    {
      "cell_type": "code",
      "metadata": {
        "id": "z-dkfu0ksEuS",
        "colab_type": "code",
        "colab": {
          "base_uri": "https://localhost:8080/",
          "height": 292
        },
        "outputId": "0ffa2d40-9643-4d82-f1a1-a1f5c17ef163"
      },
      "source": [
        "## creazione di una distribuzione gaussiana bidimensionale\n",
        "m = (1, 2)\n",
        "sigma = [[10, 3], [3, 2]]\n",
        "samples = np.random.multivariate_normal(mean=m, cov=sigma, size = 1_000)\n",
        "fig, ax = plt.subplots(1, 1, figsize=(10, 10))\n",
        "ax.set_aspect('equal')\n",
        "plt.scatter(x=samples[:, 0], y=samples[:,1], s=3)"
      ],
      "execution_count": null,
      "outputs": [
        {
          "output_type": "execute_result",
          "data": {
            "text/plain": [
              "<matplotlib.collections.PathCollection at 0x7fdb197921d0>"
            ]
          },
          "metadata": {
            "tags": []
          },
          "execution_count": 2
        },
        {
          "output_type": "display_data",
          "data": {
            "image/png": "[encoded data removed]",
            "text/plain": [
              "<Figure size 720x720 with 1 Axes>"
            ]
          },
          "metadata": {
            "tags": [],
            "needs_background": "light"
          }
        }
      ]
    },
    {
      "cell_type": "code",
      "metadata": {
        "id": "6U-f2WVjsEuZ",
        "colab_type": "code",
        "colab": {}
      },
      "source": [
        "## trasformazione secondo gli assi principali\n",
        "sigma_ = np.cov(samples.T)\n",
        "m_ = np.mean(samples, axis=0)"
      ],
      "execution_count": null,
      "outputs": []
    },
    {
      "cell_type": "code",
      "metadata": {
        "id": "87IbSDN4ti9u",
        "colab_type": "code",
        "colab": {
          "base_uri": "https://localhost:8080/",
          "height": 50
        },
        "outputId": "19990e8f-7142-4829-cf49-936ba593538b"
      },
      "source": [
        "sigma_"
      ],
      "execution_count": null,
      "outputs": [
        {
          "output_type": "execute_result",
          "data": {
            "text/plain": [
              "array([[9.13195971, 2.95721965],\n",
              "       [2.95721965, 2.05010684]])"
            ]
          },
          "metadata": {
            "tags": []
          },
          "execution_count": 5
        }
      ]
    },
    {
      "cell_type": "code",
      "metadata": {
        "id": "BlhxrCtKsEuf",
        "colab_type": "code",
        "colab": {
          "base_uri": "https://localhost:8080/",
          "height": 213
        },
        "outputId": "32e86cb0-8c13-4b38-ed39-519e5736b966"
      },
      "source": [
        "w, v = np.linalg.eigh(sigma_)\n",
        "w = np.flip(w)\n",
        "v = np.fliplr(v)\n",
        "pca_samples = (v.T@(samples.T - m_.reshape(2, 1))).T\n",
        "fig, ax = plt.subplots(1, 1, figsize=(10, 10))\n",
        "ax.set_aspect('equal')\n",
        "plt.scatter(x=pca_samples[:, 0], y=pca_samples[:,1], s=3)"
      ],
      "execution_count": null,
      "outputs": [
        {
          "output_type": "execute_result",
          "data": {
            "text/plain": [
              "<matplotlib.collections.PathCollection at 0x7fdb190ad550>"
            ]
          },
          "metadata": {
            "tags": []
          },
          "execution_count": 6
        },
        {
          "output_type": "display_data",
          "data": {
            "image/png": "[encoded data removed]",
            "text/plain": [
              "<Figure size 720x720 with 1 Axes>"
            ]
          },
          "metadata": {
            "tags": [],
            "needs_background": "light"
          }
        }
      ]
    },
    {
      "cell_type": "code",
      "metadata": {
        "id": "UEaG0VNMsEuk",
        "colab_type": "code",
        "colab": {
          "base_uri": "https://localhost:8080/",
          "height": 292
        },
        "outputId": "f93ee076-d26a-4ede-8658-b78e32972291"
      },
      "source": [
        "w, v = np.linalg.eig(sigma_)\n",
        "original_samples = (v@pca_samples.T + m_.reshape(2, 1)).T\n",
        "fig, ax = plt.subplots(1, 1, figsize=(10, 10))\n",
        "ax.set_aspect('equal')\n",
        "plt.scatter(x=original_samples[:, 0], y=original_samples[:,1], s=3)"
      ],
      "execution_count": null,
      "outputs": [
        {
          "output_type": "execute_result",
          "data": {
            "text/plain": [
              "<matplotlib.collections.PathCollection at 0x7fdb19082b00>"
            ]
          },
          "metadata": {
            "tags": []
          },
          "execution_count": 7
        },
        {
          "output_type": "display_data",
          "data": {
            "image/png": "[encoded data removed]",
            "text/plain": [
              "<Figure size 720x720 with 1 Axes>"
            ]
          },
          "metadata": {
            "tags": [],
            "needs_background": "light"
          }
        }
      ]
    },
    {
      "cell_type": "code",
      "metadata": {
        "id": "x2ZZ9OA4sEuo",
        "colab_type": "code",
        "colab": {
          "base_uri": "https://localhost:8080/",
          "height": 267
        },
        "outputId": "e64b3987-febe-483a-9536-d52bd0312229"
      },
      "source": [
        "w, v = np.linalg.eig(sigma_)\n",
        "original_samples = (v[:, 0:1]@pca_samples.T[0:1, :] + m_.reshape(2, 1)).T\n",
        "fig, ax = plt.subplots(1, 1, figsize=(10, 10))\n",
        "ax.set_aspect('equal')\n",
        "plt.scatter(x=original_samples[:, 0], y=original_samples[:,1], s=3)"
      ],
      "execution_count": null,
      "outputs": [
        {
          "output_type": "execute_result",
          "data": {
            "text/plain": [
              "<matplotlib.collections.PathCollection at 0x7fdb18fed2e8>"
            ]
          },
          "metadata": {
            "tags": []
          },
          "execution_count": 8
        },
        {
          "output_type": "display_data",
          "data": {
            "image/png": "[encoded data removed]",
            "text/plain": [
              "<Figure size 720x720 with 1 Axes>"
            ]
          },
          "metadata": {
            "tags": [],
            "needs_background": "light"
          }
        }
      ]
    },
    {
      "cell_type": "code",
      "metadata": {
        "id": "pQIfJRInsEuu",
        "colab_type": "code",
        "colab": {
          "base_uri": "https://localhost:8080/",
          "height": 267
        },
        "outputId": "66f59386-73ad-4968-db0c-3142142ce41b"
      },
      "source": [
        "pca = PCA(n_components=1, )\n",
        "pca.fit(samples)\n",
        "pca_samples = pca.transform(samples)\n",
        "fig, ax = plt.subplots(1, 1, figsize=(10, 10))\n",
        "ax.set_aspect('equal')\n",
        "plt.scatter(x=pca.inverse_transform(pca_samples)[:, 0], y=pca.inverse_transform(pca_samples)[:, 1], s=3)"
      ],
      "execution_count": null,
      "outputs": [
        {
          "output_type": "execute_result",
          "data": {
            "text/plain": [
              "<matplotlib.collections.PathCollection at 0x7fdb18fd9400>"
            ]
          },
          "metadata": {
            "tags": []
          },
          "execution_count": 9
        },
        {
          "output_type": "display_data",
          "data": {
            "image/png": "[encoded data removed]",
            "text/plain": [
              "<Figure size 720x720 with 1 Axes>"
            ]
          },
          "metadata": {
            "tags": [],
            "needs_background": "light"
          }
        }
      ]
    },
    {
      "cell_type": "code",
      "metadata": {
        "id": "dzLsB7n9uyOd",
        "colab_type": "code",
        "colab": {
          "base_uri": "https://localhost:8080/",
          "height": 33
        },
        "outputId": "ef4abc3d-1f47-4c57-81ae-96878f31210f"
      },
      "source": [
        "pca.components_"
      ],
      "execution_count": null,
      "outputs": [
        {
          "output_type": "execute_result",
          "data": {
            "text/plain": [
              "array([[-0.94008869, -0.34092998]])"
            ]
          },
          "metadata": {
            "tags": []
          },
          "execution_count": 10
        }
      ]
    },
    {
      "cell_type": "code",
      "metadata": {
        "id": "GtFpvrtasEuz",
        "colab_type": "code",
        "colab": {
          "base_uri": "https://localhost:8080/",
          "height": 241
        },
        "outputId": "073f5dcc-40ec-4368-8d93-27e76f33f55a"
      },
      "source": [
        "## covarianza zero non significa indipendenza\n",
        "x = np.linspace(0, 10, 1000)\n",
        "y = x**(1/2)\n",
        "fig, ax = plt.subplots(1, 1, figsize=(10, 10))\n",
        "ax.set_aspect('equal')\n",
        "plt.scatter(x=x, y=y, s=3)"
      ],
      "execution_count": null,
      "outputs": [
        {
          "output_type": "execute_result",
          "data": {
            "text/plain": [
              "<matplotlib.collections.PathCollection at 0x7fdb166ae860>"
            ]
          },
          "metadata": {
            "tags": []
          },
          "execution_count": 11
        },
        {
          "output_type": "display_data",
          "data": {
            "image/png": "[encoded data removed]",
            "text/plain": [
              "<Figure size 720x720 with 1 Axes>"
            ]
          },
          "metadata": {
            "tags": [],
            "needs_background": "light"
          }
        }
      ]
    },
    {
      "cell_type": "code",
      "metadata": {
        "id": "QJdiU3ANsEu4",
        "colab_type": "code",
        "colab": {}
      },
      "source": [
        "samples = np.stack([x, y])\n",
        "sigma_ = np.cov(samples)\n",
        "m_ = np.mean(samples, axis=1)"
      ],
      "execution_count": null,
      "outputs": []
    },
    {
      "cell_type": "code",
      "metadata": {
        "id": "n6Zncu_TsEu6",
        "colab_type": "code",
        "colab": {
          "base_uri": "https://localhost:8080/",
          "height": 50
        },
        "outputId": "0a3ac4d8-7441-4adb-b0f1-9244e5fd6b9a"
      },
      "source": [
        "sigma_"
      ],
      "execution_count": null,
      "outputs": [
        {
          "output_type": "execute_result",
          "data": {
            "text/plain": [
              "array([[8.35837506, 2.11620609],\n",
              "       [2.11620609, 0.55842304]])"
            ]
          },
          "metadata": {
            "tags": []
          },
          "execution_count": 13
        }
      ]
    },
    {
      "cell_type": "code",
      "metadata": {
        "id": "LumWyZOMsEu-",
        "colab_type": "code",
        "colab": {
          "base_uri": "https://localhost:8080/",
          "height": 33
        },
        "outputId": "a9aef895-f73c-415f-e833-901683e83e60"
      },
      "source": [
        "samples.shape"
      ],
      "execution_count": null,
      "outputs": [
        {
          "output_type": "execute_result",
          "data": {
            "text/plain": [
              "(2, 1000)"
            ]
          },
          "metadata": {
            "tags": []
          },
          "execution_count": 14
        }
      ]
    },
    {
      "cell_type": "code",
      "metadata": {
        "id": "wFk3F15NsEvC",
        "colab_type": "code",
        "colab": {
          "base_uri": "https://localhost:8080/",
          "height": 116
        },
        "outputId": "0f39eece-0fe7-4eb2-a61e-a04e9e36d6f2"
      },
      "source": [
        "w, v = np.linalg.eigh(sigma_)\n",
        "w = np.flip(w)\n",
        "v = np.fliplr(v)\n",
        "pca_samples = (v.T@(samples - m_.reshape(2, 1))).T\n",
        "fig, ax = plt.subplots(1, 1, figsize=(10, 10))\n",
        "ax.set_aspect('equal')\n",
        "plt.scatter(x=pca_samples[:, 0], y=pca_samples[:,1], s=3)"
      ],
      "execution_count": null,
      "outputs": [
        {
          "output_type": "execute_result",
          "data": {
            "text/plain": [
              "<matplotlib.collections.PathCollection at 0x7fdb16695668>"
            ]
          },
          "metadata": {
            "tags": []
          },
          "execution_count": 15
        },
        {
          "output_type": "display_data",
          "data": {
            "image/png": "[encoded data removed]",
            "text/plain": [
              "<Figure size 720x720 with 1 Axes>"
            ]
          },
          "metadata": {
            "tags": [],
            "needs_background": "light"
          }
        }
      ]
    },
    {
      "cell_type": "code",
      "metadata": {
        "id": "QsdeCpMhsEvW",
        "colab_type": "code",
        "colab": {},
        "outputId": "4a1bacc3-cf23-4347-cb89-711fd4f92ce0"
      },
      "source": [
        "# fare una pca sulle immagini\n",
        "# fare un classificatore (es. KNN)\n",
        "# Verificare l'accuratezza sul test set\n",
        "# stampare qualche coppia di immagini (originle, ricostruita dopo la PCA)"
      ],
      "execution_count": null,
      "outputs": [
        {
          "output_type": "execute_result",
          "data": {
            "text/plain": [
              "<matplotlib.image.AxesImage at 0x1b02ee3f248>"
            ]
          },
          "metadata": {
            "tags": []
          },
          "execution_count": 29
        },
        {
          "output_type": "display_data",
          "data": {
            "text/plain": [
              "<Figure size 432x288 with 1 Axes>"
            ],
            "image/svg+xml": "<?xml version=\"1.0\" encoding=\"utf-8\" standalone=\"no\"?>\r\n<!DOCTYPE svg PUBLIC \"-//W3C//DTD SVG 1.1//EN\"\r\n  \"http://www.w3.org/Graphics/SVG/1.1/DTD/svg11.dtd\">\r\n<!-- Created with matplotlib (https://matplotlib.org/) -->\r\n<svg height=\"248.518125pt\" version=\"1.1\" viewBox=\"0 0 251.565 248.518125\" width=\"251.565pt\" xmlns=\"http://www.w3.org/2000/svg\" xmlns:xlink=\"http://www.w3.org/1999/xlink\">\r\n <defs>\r\n  <style type=\"text/css\">\r\n*{stroke-linecap:butt;stroke-linejoin:round;}\r\n  </style>\r\n </defs>\r\n <g id=\"figure_1\">\r\n  <g id=\"patch_1\">\r\n   <path d=\"M 0 248.518125 \r\nL 251.565 248.518125 \r\nL 251.565 0 \r\nL 0 0 \r\nz\r\n\" style=\"fill:none;\"/>\r\n  </g>\r\n  <g id=\"axes_1\">\r\n   <g id=\"patch_2\">\r\n    <path d=\"M 26.925 224.64 \r\nL 244.365 224.64 \r\nL 244.365 7.2 \r\nL 26.925 7.2 \r\nz\r\n\" style=\"fill:#ffffff;\"/>\r\n   </g>\r\n   <g clip-path=\"url(#p760ad70d95)\">\r\n    <image height=\"218\" id=\"imageab902f5a55\" transform=\"scale(1 -1)translate(0 -218)\" width=\"218\" x=\"26.925\" xlink:href=\"data:image/png;base64,\r\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\" y=\"-6.64\"/>\r\n   </g>\r\n   <g id=\"matplotlib.axis_1\">\r\n    <g id=\"xtick_1\">\r\n     <g id=\"line2d_1\">\r\n      <defs>\r\n       <path d=\"M 0 0 \r\nL 0 3.5 \r\n\" id=\"m671bcef46d\" style=\"stroke:#000000;stroke-width:0.8;\"/>\r\n      </defs>\r\n      <g>\r\n       <use style=\"stroke:#000000;stroke-width:0.8;\" x=\"30.807857\" xlink:href=\"#m671bcef46d\" y=\"224.64\"/>\r\n      </g>\r\n     </g>\r\n     <g id=\"text_1\">\r\n      <!-- 0 -->\r\n      <defs>\r\n       <path d=\"M 31.78125 66.40625 \r\nQ 24.171875 66.40625 20.328125 58.90625 \r\nQ 16.5 51.421875 16.5 36.375 \r\nQ 16.5 21.390625 20.328125 13.890625 \r\nQ 24.171875 6.390625 31.78125 6.390625 \r\nQ 39.453125 6.390625 43.28125 13.890625 \r\nQ 47.125 21.390625 47.125 36.375 \r\nQ 47.125 51.421875 43.28125 58.90625 \r\nQ 39.453125 66.40625 31.78125 66.40625 \r\nz\r\nM 31.78125 74.21875 \r\nQ 44.046875 74.21875 50.515625 64.515625 \r\nQ 56.984375 54.828125 56.984375 36.375 \r\nQ 56.984375 17.96875 50.515625 8.265625 \r\nQ 44.046875 -1.421875 31.78125 -1.421875 \r\nQ 19.53125 -1.421875 13.0625 8.265625 \r\nQ 6.59375 17.96875 6.59375 36.375 \r\nQ 6.59375 54.828125 13.0625 64.515625 \r\nQ 19.53125 74.21875 31.78125 74.21875 \r\nz\r\n\" id=\"DejaVuSans-48\"/>\r\n      </defs>\r\n      <g transform=\"translate(27.626607 239.238437)scale(0.1 -0.1)\">\r\n       <use xlink:href=\"#DejaVuSans-48\"/>\r\n      </g>\r\n     </g>\r\n    </g>\r\n    <g id=\"xtick_2\">\r\n     <g id=\"line2d_2\">\r\n      <g>\r\n       <use style=\"stroke:#000000;stroke-width:0.8;\" x=\"69.636429\" xlink:href=\"#m671bcef46d\" y=\"224.64\"/>\r\n      </g>\r\n     </g>\r\n     <g id=\"text_2\">\r\n      <!-- 5 -->\r\n      <defs>\r\n       <path d=\"M 10.796875 72.90625 \r\nL 49.515625 72.90625 \r\nL 49.515625 64.59375 \r\nL 19.828125 64.59375 \r\nL 19.828125 46.734375 \r\nQ 21.96875 47.46875 24.109375 47.828125 \r\nQ 26.265625 48.1875 28.421875 48.1875 \r\nQ 40.625 48.1875 47.75 41.5 \r\nQ 54.890625 34.8125 54.890625 23.390625 \r\nQ 54.890625 11.625 47.5625 5.09375 \r\nQ 40.234375 -1.421875 26.90625 -1.421875 \r\nQ 22.3125 -1.421875 17.546875 -0.640625 \r\nQ 12.796875 0.140625 7.71875 1.703125 \r\nL 7.71875 11.625 \r\nQ 12.109375 9.234375 16.796875 8.0625 \r\nQ 21.484375 6.890625 26.703125 6.890625 \r\nQ 35.15625 6.890625 40.078125 11.328125 \r\nQ 45.015625 15.765625 45.015625 23.390625 \r\nQ 45.015625 31 40.078125 35.4375 \r\nQ 35.15625 39.890625 26.703125 39.890625 \r\nQ 22.75 39.890625 18.8125 39.015625 \r\nQ 14.890625 38.140625 10.796875 36.28125 \r\nz\r\n\" id=\"DejaVuSans-53\"/>\r\n      </defs>\r\n      <g transform=\"translate(66.455179 239.238437)scale(0.1 -0.1)\">\r\n       <use xlink:href=\"#DejaVuSans-53\"/>\r\n      </g>\r\n     </g>\r\n    </g>\r\n    <g id=\"xtick_3\">\r\n     <g id=\"line2d_3\">\r\n      <g>\r\n       <use style=\"stroke:#000000;stroke-width:0.8;\" x=\"108.465\" xlink:href=\"#m671bcef46d\" y=\"224.64\"/>\r\n      </g>\r\n     </g>\r\n     <g id=\"text_3\">\r\n      <!-- 10 -->\r\n      <defs>\r\n       <path d=\"M 12.40625 8.296875 \r\nL 28.515625 8.296875 \r\nL 28.515625 63.921875 \r\nL 10.984375 60.40625 \r\nL 10.984375 69.390625 \r\nL 28.421875 72.90625 \r\nL 38.28125 72.90625 \r\nL 38.28125 8.296875 \r\nL 54.390625 8.296875 \r\nL 54.390625 0 \r\nL 12.40625 0 \r\nz\r\n\" id=\"DejaVuSans-49\"/>\r\n      </defs>\r\n      <g transform=\"translate(102.1025 239.238437)scale(0.1 -0.1)\">\r\n       <use xlink:href=\"#DejaVuSans-49\"/>\r\n       <use x=\"63.623047\" xlink:href=\"#DejaVuSans-48\"/>\r\n      </g>\r\n     </g>\r\n    </g>\r\n    <g id=\"xtick_4\">\r\n     <g id=\"line2d_4\">\r\n      <g>\r\n       <use style=\"stroke:#000000;stroke-width:0.8;\" x=\"147.293571\" xlink:href=\"#m671bcef46d\" y=\"224.64\"/>\r\n      </g>\r\n     </g>\r\n     <g id=\"text_4\">\r\n      <!-- 15 -->\r\n      <g transform=\"translate(140.931071 239.238437)scale(0.1 -0.1)\">\r\n       <use xlink:href=\"#DejaVuSans-49\"/>\r\n       <use x=\"63.623047\" xlink:href=\"#DejaVuSans-53\"/>\r\n      </g>\r\n     </g>\r\n    </g>\r\n    <g id=\"xtick_5\">\r\n     <g id=\"line2d_5\">\r\n      <g>\r\n       <use style=\"stroke:#000000;stroke-width:0.8;\" x=\"186.122143\" xlink:href=\"#m671bcef46d\" y=\"224.64\"/>\r\n      </g>\r\n     </g>\r\n     <g id=\"text_5\">\r\n      <!-- 20 -->\r\n      <defs>\r\n       <path d=\"M 19.1875 8.296875 \r\nL 53.609375 8.296875 \r\nL 53.609375 0 \r\nL 7.328125 0 \r\nL 7.328125 8.296875 \r\nQ 12.9375 14.109375 22.625 23.890625 \r\nQ 32.328125 33.6875 34.8125 36.53125 \r\nQ 39.546875 41.84375 41.421875 45.53125 \r\nQ 43.3125 49.21875 43.3125 52.78125 \r\nQ 43.3125 58.59375 39.234375 62.25 \r\nQ 35.15625 65.921875 28.609375 65.921875 \r\nQ 23.96875 65.921875 18.8125 64.3125 \r\nQ 13.671875 62.703125 7.8125 59.421875 \r\nL 7.8125 69.390625 \r\nQ 13.765625 71.78125 18.9375 73 \r\nQ 24.125 74.21875 28.421875 74.21875 \r\nQ 39.75 74.21875 46.484375 68.546875 \r\nQ 53.21875 62.890625 53.21875 53.421875 \r\nQ 53.21875 48.921875 51.53125 44.890625 \r\nQ 49.859375 40.875 45.40625 35.40625 \r\nQ 44.1875 33.984375 37.640625 27.21875 \r\nQ 31.109375 20.453125 19.1875 8.296875 \r\nz\r\n\" id=\"DejaVuSans-50\"/>\r\n      </defs>\r\n      <g transform=\"translate(179.759643 239.238437)scale(0.1 -0.1)\">\r\n       <use xlink:href=\"#DejaVuSans-50\"/>\r\n       <use x=\"63.623047\" xlink:href=\"#DejaVuSans-48\"/>\r\n      </g>\r\n     </g>\r\n    </g>\r\n    <g id=\"xtick_6\">\r\n     <g id=\"line2d_6\">\r\n      <g>\r\n       <use style=\"stroke:#000000;stroke-width:0.8;\" x=\"224.950714\" xlink:href=\"#m671bcef46d\" y=\"224.64\"/>\r\n      </g>\r\n     </g>\r\n     <g id=\"text_6\">\r\n      <!-- 25 -->\r\n      <g transform=\"translate(218.588214 239.238437)scale(0.1 -0.1)\">\r\n       <use xlink:href=\"#DejaVuSans-50\"/>\r\n       <use x=\"63.623047\" xlink:href=\"#DejaVuSans-53\"/>\r\n      </g>\r\n     </g>\r\n    </g>\r\n   </g>\r\n   <g id=\"matplotlib.axis_2\">\r\n    <g id=\"ytick_1\">\r\n     <g id=\"line2d_7\">\r\n      <defs>\r\n       <path d=\"M 0 0 \r\nL -3.5 0 \r\n\" id=\"meb493ac459\" style=\"stroke:#000000;stroke-width:0.8;\"/>\r\n      </defs>\r\n      <g>\r\n       <use style=\"stroke:#000000;stroke-width:0.8;\" x=\"26.925\" xlink:href=\"#meb493ac459\" y=\"11.082857\"/>\r\n      </g>\r\n     </g>\r\n     <g id=\"text_7\">\r\n      <!-- 0 -->\r\n      <g transform=\"translate(13.5625 14.882076)scale(0.1 -0.1)\">\r\n       <use xlink:href=\"#DejaVuSans-48\"/>\r\n      </g>\r\n     </g>\r\n    </g>\r\n    <g id=\"ytick_2\">\r\n     <g id=\"line2d_8\">\r\n      <g>\r\n       <use style=\"stroke:#000000;stroke-width:0.8;\" x=\"26.925\" xlink:href=\"#meb493ac459\" y=\"49.911429\"/>\r\n      </g>\r\n     </g>\r\n     <g id=\"text_8\">\r\n      <!-- 5 -->\r\n      <g transform=\"translate(13.5625 53.710647)scale(0.1 -0.1)\">\r\n       <use xlink:href=\"#DejaVuSans-53\"/>\r\n      </g>\r\n     </g>\r\n    </g>\r\n    <g id=\"ytick_3\">\r\n     <g id=\"line2d_9\">\r\n      <g>\r\n       <use style=\"stroke:#000000;stroke-width:0.8;\" x=\"26.925\" xlink:href=\"#meb493ac459\" y=\"88.74\"/>\r\n      </g>\r\n     </g>\r\n     <g id=\"text_9\">\r\n      <!-- 10 -->\r\n      <g transform=\"translate(7.2 92.539219)scale(0.1 -0.1)\">\r\n       <use xlink:href=\"#DejaVuSans-49\"/>\r\n       <use x=\"63.623047\" xlink:href=\"#DejaVuSans-48\"/>\r\n      </g>\r\n     </g>\r\n    </g>\r\n    <g id=\"ytick_4\">\r\n     <g id=\"line2d_10\">\r\n      <g>\r\n       <use style=\"stroke:#000000;stroke-width:0.8;\" x=\"26.925\" xlink:href=\"#meb493ac459\" y=\"127.568571\"/>\r\n      </g>\r\n     </g>\r\n     <g id=\"text_10\">\r\n      <!-- 15 -->\r\n      <g transform=\"translate(7.2 131.36779)scale(0.1 -0.1)\">\r\n       <use xlink:href=\"#DejaVuSans-49\"/>\r\n       <use x=\"63.623047\" xlink:href=\"#DejaVuSans-53\"/>\r\n      </g>\r\n     </g>\r\n    </g>\r\n    <g id=\"ytick_5\">\r\n     <g id=\"line2d_11\">\r\n      <g>\r\n       <use style=\"stroke:#000000;stroke-width:0.8;\" x=\"26.925\" xlink:href=\"#meb493ac459\" y=\"166.397143\"/>\r\n      </g>\r\n     </g>\r\n     <g id=\"text_11\">\r\n      <!-- 20 -->\r\n      <g transform=\"translate(7.2 170.196362)scale(0.1 -0.1)\">\r\n       <use xlink:href=\"#DejaVuSans-50\"/>\r\n       <use x=\"63.623047\" xlink:href=\"#DejaVuSans-48\"/>\r\n      </g>\r\n     </g>\r\n    </g>\r\n    <g id=\"ytick_6\">\r\n     <g id=\"line2d_12\">\r\n      <g>\r\n       <use style=\"stroke:#000000;stroke-width:0.8;\" x=\"26.925\" xlink:href=\"#meb493ac459\" y=\"205.225714\"/>\r\n      </g>\r\n     </g>\r\n     <g id=\"text_12\">\r\n      <!-- 25 -->\r\n      <g transform=\"translate(7.2 209.024933)scale(0.1 -0.1)\">\r\n       <use xlink:href=\"#DejaVuSans-50\"/>\r\n       <use x=\"63.623047\" xlink:href=\"#DejaVuSans-53\"/>\r\n      </g>\r\n     </g>\r\n    </g>\r\n   </g>\r\n   <g id=\"patch_3\">\r\n    <path d=\"M 26.925 224.64 \r\nL 26.925 7.2 \r\n\" style=\"fill:none;stroke:#000000;stroke-linecap:square;stroke-linejoin:miter;stroke-width:0.8;\"/>\r\n   </g>\r\n   <g id=\"patch_4\">\r\n    <path d=\"M 244.365 224.64 \r\nL 244.365 7.2 \r\n\" style=\"fill:none;stroke:#000000;stroke-linecap:square;stroke-linejoin:miter;stroke-width:0.8;\"/>\r\n   </g>\r\n   <g id=\"patch_5\">\r\n    <path d=\"M 26.925 224.64 \r\nL 244.365 224.64 \r\n\" style=\"fill:none;stroke:#000000;stroke-linecap:square;stroke-linejoin:miter;stroke-width:0.8;\"/>\r\n   </g>\r\n   <g id=\"patch_6\">\r\n    <path d=\"M 26.925 7.2 \r\nL 244.365 7.2 \r\n\" style=\"fill:none;stroke:#000000;stroke-linecap:square;stroke-linejoin:miter;stroke-width:0.8;\"/>\r\n   </g>\r\n  </g>\r\n </g>\r\n <defs>\r\n  <clipPath id=\"p760ad70d95\">\r\n   <rect height=\"217.44\" width=\"217.44\" x=\"26.925\" y=\"7.2\"/>\r\n  </clipPath>\r\n </defs>\r\n</svg>\r\n",
            "image/png": "[encoded data removed]"
          },
          "metadata": {
            "tags": [],
            "needs_background": "light"
          }
        }
      ]
    }
  ],
  "metadata": {
    "language_info": {
      "codemirror_mode": {
        "name": "ipython",
        "version": 3
      },
      "file_extension": ".py",
      "mimetype": "text/x-python",
      "name": "python",
      "nbconvert_exporter": "python",
      "pygments_lexer": "ipython3",
      "version": "3.7.4-final"
    },
    "orig_nbformat": 2,
    "kernelspec": {
      "name": "python37464bitbaseconda23e937e95969445babd8b9c091f71447",
      "display_name": "Python 3.7.4 64-bit ('base': conda)"
    },
    "colab": {
      "name": "PCA_esercizio.ipynb",
      "provenance": []
    }
  },
  "nbformat": 4,
  "nbformat_minor": 0
}