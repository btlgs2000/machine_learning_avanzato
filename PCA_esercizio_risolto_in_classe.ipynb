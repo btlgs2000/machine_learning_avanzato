{
  "nbformat": 4,
  "nbformat_minor": 0,
  "metadata": {
    "language_info": {
      "codemirror_mode": {
        "name": "ipython",
        "version": 3
      },
      "file_extension": ".py",
      "mimetype": "text/x-python",
      "name": "python",
      "nbconvert_exporter": "python",
      "pygments_lexer": "ipython3",
      "version": "3.7.4-final"
    },
    "orig_nbformat": 2,
    "kernelspec": {
      "name": "python37464bitbaseconda23e937e95969445babd8b9c091f71447",
      "display_name": "Python 3.7.4 64-bit ('base': conda)"
    },
    "colab": {
      "name": "PCA_esercizio_risolto_in_classe.ipynb",
      "provenance": [],
      "collapsed_sections": []
    }
  },
  "cells": [
    {
      "cell_type": "code",
      "metadata": {
        "id": "vh9HI-6-sEuK",
        "colab_type": "code",
        "colab": {}
      },
      "source": [
        "import numpy as np\n",
        "import matplotlib.pyplot as plt\n",
        "from sklearn.decomposition import PCA\n",
        "import matplotlib.pyplot as plt\n",
        "from sklearn.pipeline import Pipeline\n",
        "from sklearn.preprocessing import StandardScaler\n",
        "from sklearn import neighbors\n",
        "from sklearn.model_selection import GridSearchCV"
      ],
      "execution_count": 2,
      "outputs": []
    },
    {
      "cell_type": "code",
      "metadata": {
        "id": "46NCQESfx7-S",
        "colab_type": "code",
        "colab": {
          "base_uri": "https://localhost:8080/",
          "height": 371
        },
        "outputId": "e32ef7f6-6e43-4635-a514-39bd55a5fe45"
      },
      "source": [
        "! wget https://www.dropbox.com/s/mw6ctze0ikcuqt4/mnist_train.csv?dl=0 -O mnist_train.csv"
      ],
      "execution_count": 3,
      "outputs": [
        {
          "output_type": "stream",
          "text": [
            "--2020-07-17 13:10:44--  https://www.dropbox.com/s/mw6ctze0ikcuqt4/mnist_train.csv?dl=0\n",
            "Resolving www.dropbox.com (www.dropbox.com)... 162.125.3.1, 2620:100:6018:1::a27d:301\n",
            "Connecting to www.dropbox.com (www.dropbox.com)|162.125.3.1|:443... connected.\n",
            "HTTP request sent, awaiting response... 301 Moved Permanently\n",
            "Location: /s/raw/mw6ctze0ikcuqt4/mnist_train.csv [following]\n",
            "--2020-07-17 13:10:44--  https://www.dropbox.com/s/raw/mw6ctze0ikcuqt4/mnist_train.csv\n",
            "Reusing existing connection to www.dropbox.com:443.\n",
            "HTTP request sent, awaiting response... 302 Found\n",
            "Location: https://uc48e8d3ece4ea34bf11a96c93f8.dl.dropboxusercontent.com/cd/0/inline/A7vWJj9VFrgBRKzdJuAAGE9K3W74QIlzjac8aP8xyUuQs5L4QQeCqMJpaziwAbPjVV2-1CzM0RVhIXfIxiWxG8F3JD-eqQkkvlysjvQzDQxy1RTyLR88wJEzp2GCvHwRtuE/file# [following]\n",
            "--2020-07-17 13:10:44--  https://uc48e8d3ece4ea34bf11a96c93f8.dl.dropboxusercontent.com/cd/0/inline/A7vWJj9VFrgBRKzdJuAAGE9K3W74QIlzjac8aP8xyUuQs5L4QQeCqMJpaziwAbPjVV2-1CzM0RVhIXfIxiWxG8F3JD-eqQkkvlysjvQzDQxy1RTyLR88wJEzp2GCvHwRtuE/file\n",
            "Resolving uc48e8d3ece4ea34bf11a96c93f8.dl.dropboxusercontent.com (uc48e8d3ece4ea34bf11a96c93f8.dl.dropboxusercontent.com)... 162.125.3.15, 2620:100:6018:15::a27d:30f\n",
            "Connecting to uc48e8d3ece4ea34bf11a96c93f8.dl.dropboxusercontent.com (uc48e8d3ece4ea34bf11a96c93f8.dl.dropboxusercontent.com)|162.125.3.15|:443... connected.\n",
            "HTTP request sent, awaiting response... 200 OK\n",
            "Length: 109575994 (104M) [text/plain]\n",
            "Saving to: ‘mnist_train.csv’\n",
            "\n",
            "mnist_train.csv     100%[===================>] 104.50M  78.9MB/s    in 1.3s    \n",
            "\n",
            "2020-07-17 13:10:46 (78.9 MB/s) - ‘mnist_train.csv’ saved [109575994/109575994]\n",
            "\n"
          ],
          "name": "stdout"
        }
      ]
    },
    {
      "cell_type": "code",
      "metadata": {
        "id": "UGuK1UTQyThj",
        "colab_type": "code",
        "colab": {
          "base_uri": "https://localhost:8080/",
          "height": 371
        },
        "outputId": "e862feee-8dc9-476a-d6b8-ac73c6e3bb05"
      },
      "source": [
        "! wget https://www.dropbox.com/s/e8n5v1sea2housp/mnist_test.csv?dl=0 -O mnist_test.csv"
      ],
      "execution_count": 4,
      "outputs": [
        {
          "output_type": "stream",
          "text": [
            "--2020-07-17 13:10:47--  https://www.dropbox.com/s/e8n5v1sea2housp/mnist_test.csv?dl=0\n",
            "Resolving www.dropbox.com (www.dropbox.com)... 162.125.3.1, 2620:100:6018:1::a27d:301\n",
            "Connecting to www.dropbox.com (www.dropbox.com)|162.125.3.1|:443... connected.\n",
            "HTTP request sent, awaiting response... 301 Moved Permanently\n",
            "Location: /s/raw/e8n5v1sea2housp/mnist_test.csv [following]\n",
            "--2020-07-17 13:10:48--  https://www.dropbox.com/s/raw/e8n5v1sea2housp/mnist_test.csv\n",
            "Reusing existing connection to www.dropbox.com:443.\n",
            "HTTP request sent, awaiting response... 302 Found\n",
            "Location: https://uc12cc79e7c5e7c66bf5ba710d3c.dl.dropboxusercontent.com/cd/0/inline/A7vfFuRu9tvhDuxPsqgwSaa1nvM5jHG2V0MrnUqL4BVXfFhaHk4WpsRKZLd4pc57nXjiusEfAAJK0fkTXT77uzdEHD3u-SDysVdihko4ALsWci8hq5kez4Ws-9t6FFqd0vU/file# [following]\n",
            "--2020-07-17 13:10:48--  https://uc12cc79e7c5e7c66bf5ba710d3c.dl.dropboxusercontent.com/cd/0/inline/A7vfFuRu9tvhDuxPsqgwSaa1nvM5jHG2V0MrnUqL4BVXfFhaHk4WpsRKZLd4pc57nXjiusEfAAJK0fkTXT77uzdEHD3u-SDysVdihko4ALsWci8hq5kez4Ws-9t6FFqd0vU/file\n",
            "Resolving uc12cc79e7c5e7c66bf5ba710d3c.dl.dropboxusercontent.com (uc12cc79e7c5e7c66bf5ba710d3c.dl.dropboxusercontent.com)... 162.125.3.15, 2620:100:6018:15::a27d:30f\n",
            "Connecting to uc12cc79e7c5e7c66bf5ba710d3c.dl.dropboxusercontent.com (uc12cc79e7c5e7c66bf5ba710d3c.dl.dropboxusercontent.com)|162.125.3.15|:443... connected.\n",
            "HTTP request sent, awaiting response... 200 OK\n",
            "Length: 18289443 (17M) [text/plain]\n",
            "Saving to: ‘mnist_test.csv’\n",
            "\n",
            "mnist_test.csv      100%[===================>]  17.44M  73.2MB/s    in 0.2s    \n",
            "\n",
            "2020-07-17 13:10:49 (73.2 MB/s) - ‘mnist_test.csv’ saved [18289443/18289443]\n",
            "\n"
          ],
          "name": "stdout"
        }
      ]
    },
    {
      "cell_type": "code",
      "metadata": {
        "id": "Em4jFwKCyVrC",
        "colab_type": "code",
        "colab": {}
      },
      "source": [
        "train_data = np.loadtxt(\"mnist_train.csv\", \n",
        "                        delimiter=\",\")\n",
        "test_data = np.loadtxt(\"mnist_test.csv\", \n",
        "                       delimiter=\",\")"
      ],
      "execution_count": 5,
      "outputs": []
    },
    {
      "cell_type": "code",
      "metadata": {
        "id": "upeZKbFDyYUJ",
        "colab_type": "code",
        "colab": {}
      },
      "source": [
        "test_labels = test_data[:, 0].astype(int)\n",
        "test_images = test_data[:, 1:].reshape(-1, 28*28) / 255.\n",
        "train_labels = train_data[:, 0].astype(int)\n",
        "train_images = train_data[:, 1:].reshape(-1, 28*28) / 255."
      ],
      "execution_count": 6,
      "outputs": []
    },
    {
      "cell_type": "code",
      "metadata": {
        "id": "vQsT0Ppp5RbE",
        "colab_type": "code",
        "colab": {}
      },
      "source": [
        "pipeline = Pipeline([\n",
        "    ('PCA', PCA()),\n",
        "    ('classifier', neighbors.KNeighborsClassifier())\n",
        "    ]\n",
        ")"
      ],
      "execution_count": 7,
      "outputs": []
    },
    {
      "cell_type": "code",
      "metadata": {
        "id": "TEPDEFQ05S_y",
        "colab_type": "code",
        "colab": {}
      },
      "source": [
        "params = {\n",
        "    'PCA__n_components': range(10, 40, 10),\n",
        "    'classifier__n_neighbors': range(1, 23, 5)\n",
        "}"
      ],
      "execution_count": 8,
      "outputs": []
    },
    {
      "cell_type": "code",
      "metadata": {
        "id": "8XqAxTPn5Y5m",
        "colab_type": "code",
        "colab": {
          "base_uri": "https://localhost:8080/",
          "height": 1000
        },
        "outputId": "8a344ba9-33b6-41ca-a75d-8572fc0b3176"
      },
      "source": [
        "grid = GridSearchCV(pipeline, param_grid=params, cv=2, verbose=2)\n",
        "grid.fit(train_images, train_labels)"
      ],
      "execution_count": 10,
      "outputs": [
        {
          "output_type": "stream",
          "text": [
            "Fitting 2 folds for each of 15 candidates, totalling 30 fits\n",
            "[CV] PCA__n_components=10, classifier__n_neighbors=1 .................\n"
          ],
          "name": "stdout"
        },
        {
          "output_type": "stream",
          "text": [
            "[Parallel(n_jobs=1)]: Using backend SequentialBackend with 1 concurrent workers.\n"
          ],
          "name": "stderr"
        },
        {
          "output_type": "stream",
          "text": [
            "[CV] .. PCA__n_components=10, classifier__n_neighbors=1, total=   4.6s\n",
            "[CV] PCA__n_components=10, classifier__n_neighbors=1 .................\n"
          ],
          "name": "stdout"
        },
        {
          "output_type": "stream",
          "text": [
            "[Parallel(n_jobs=1)]: Done   1 out of   1 | elapsed:    4.6s remaining:    0.0s\n"
          ],
          "name": "stderr"
        },
        {
          "output_type": "stream",
          "text": [
            "[CV] .. PCA__n_components=10, classifier__n_neighbors=1, total=   4.3s\n",
            "[CV] PCA__n_components=10, classifier__n_neighbors=6 .................\n",
            "[CV] .. PCA__n_components=10, classifier__n_neighbors=6, total=   5.7s\n",
            "[CV] PCA__n_components=10, classifier__n_neighbors=6 .................\n",
            "[CV] .. PCA__n_components=10, classifier__n_neighbors=6, total=   5.7s\n",
            "[CV] PCA__n_components=10, classifier__n_neighbors=11 ................\n",
            "[CV] . PCA__n_components=10, classifier__n_neighbors=11, total=   6.4s\n",
            "[CV] PCA__n_components=10, classifier__n_neighbors=11 ................\n",
            "[CV] . PCA__n_components=10, classifier__n_neighbors=11, total=   6.4s\n",
            "[CV] PCA__n_components=10, classifier__n_neighbors=16 ................\n",
            "[CV] . PCA__n_components=10, classifier__n_neighbors=16, total=   6.9s\n",
            "[CV] PCA__n_components=10, classifier__n_neighbors=16 ................\n",
            "[CV] . PCA__n_components=10, classifier__n_neighbors=16, total=   6.9s\n",
            "[CV] PCA__n_components=10, classifier__n_neighbors=21 ................\n",
            "[CV] . PCA__n_components=10, classifier__n_neighbors=21, total=   7.3s\n",
            "[CV] PCA__n_components=10, classifier__n_neighbors=21 ................\n",
            "[CV] . PCA__n_components=10, classifier__n_neighbors=21, total=   7.3s\n",
            "[CV] PCA__n_components=20, classifier__n_neighbors=1 .................\n",
            "[CV] .. PCA__n_components=20, classifier__n_neighbors=1, total=  11.7s\n",
            "[CV] PCA__n_components=20, classifier__n_neighbors=1 .................\n",
            "[CV] .. PCA__n_components=20, classifier__n_neighbors=1, total=  12.2s\n",
            "[CV] PCA__n_components=20, classifier__n_neighbors=6 .................\n",
            "[CV] .. PCA__n_components=20, classifier__n_neighbors=6, total=  17.3s\n",
            "[CV] PCA__n_components=20, classifier__n_neighbors=6 .................\n",
            "[CV] .. PCA__n_components=20, classifier__n_neighbors=6, total=  17.2s\n",
            "[CV] PCA__n_components=20, classifier__n_neighbors=11 ................\n",
            "[CV] . PCA__n_components=20, classifier__n_neighbors=11, total=  19.4s\n",
            "[CV] PCA__n_components=20, classifier__n_neighbors=11 ................\n",
            "[CV] . PCA__n_components=20, classifier__n_neighbors=11, total=  19.8s\n",
            "[CV] PCA__n_components=20, classifier__n_neighbors=16 ................\n",
            "[CV] . PCA__n_components=20, classifier__n_neighbors=16, total=  21.3s\n",
            "[CV] PCA__n_components=20, classifier__n_neighbors=16 ................\n",
            "[CV] . PCA__n_components=20, classifier__n_neighbors=16, total=  21.1s\n",
            "[CV] PCA__n_components=20, classifier__n_neighbors=21 ................\n",
            "[CV] . PCA__n_components=20, classifier__n_neighbors=21, total=  22.4s\n",
            "[CV] PCA__n_components=20, classifier__n_neighbors=21 ................\n",
            "[CV] . PCA__n_components=20, classifier__n_neighbors=21, total=  23.2s\n",
            "[CV] PCA__n_components=30, classifier__n_neighbors=1 .................\n",
            "[CV] .. PCA__n_components=30, classifier__n_neighbors=1, total=  23.7s\n",
            "[CV] PCA__n_components=30, classifier__n_neighbors=1 .................\n",
            "[CV] .. PCA__n_components=30, classifier__n_neighbors=1, total=  24.0s\n",
            "[CV] PCA__n_components=30, classifier__n_neighbors=6 .................\n",
            "[CV] .. PCA__n_components=30, classifier__n_neighbors=6, total=  36.4s\n",
            "[CV] PCA__n_components=30, classifier__n_neighbors=6 .................\n",
            "[CV] .. PCA__n_components=30, classifier__n_neighbors=6, total=  37.0s\n",
            "[CV] PCA__n_components=30, classifier__n_neighbors=11 ................\n",
            "[CV] . PCA__n_components=30, classifier__n_neighbors=11, total=  41.6s\n",
            "[CV] PCA__n_components=30, classifier__n_neighbors=11 ................\n",
            "[CV] . PCA__n_components=30, classifier__n_neighbors=11, total=  43.9s\n",
            "[CV] PCA__n_components=30, classifier__n_neighbors=16 ................\n",
            "[CV] . PCA__n_components=30, classifier__n_neighbors=16, total=  46.2s\n",
            "[CV] PCA__n_components=30, classifier__n_neighbors=16 ................\n",
            "[CV] . PCA__n_components=30, classifier__n_neighbors=16, total=  44.3s\n",
            "[CV] PCA__n_components=30, classifier__n_neighbors=21 ................\n",
            "[CV] . PCA__n_components=30, classifier__n_neighbors=21, total=  50.0s\n",
            "[CV] PCA__n_components=30, classifier__n_neighbors=21 ................\n",
            "[CV] . PCA__n_components=30, classifier__n_neighbors=21, total=  49.9s\n"
          ],
          "name": "stdout"
        },
        {
          "output_type": "stream",
          "text": [
            "[Parallel(n_jobs=1)]: Done  30 out of  30 | elapsed: 10.7min finished\n"
          ],
          "name": "stderr"
        },
        {
          "output_type": "execute_result",
          "data": {
            "text/plain": [
              "GridSearchCV(cv=2, error_score=nan,\n",
              "             estimator=Pipeline(memory=None,\n",
              "                                steps=[('PCA',\n",
              "                                        PCA(copy=True, iterated_power='auto',\n",
              "                                            n_components=None,\n",
              "                                            random_state=None,\n",
              "                                            svd_solver='auto', tol=0.0,\n",
              "                                            whiten=False)),\n",
              "                                       ('classifier',\n",
              "                                        KNeighborsClassifier(algorithm='auto',\n",
              "                                                             leaf_size=30,\n",
              "                                                             metric='minkowski',\n",
              "                                                             metric_params=None,\n",
              "                                                             n_jobs=None,\n",
              "                                                             n_neighbors=5, p=2,\n",
              "                                                             weights='uniform'))],\n",
              "                                verbose=False),\n",
              "             iid='deprecated', n_jobs=None,\n",
              "             param_grid={'PCA__n_components': range(10, 40, 10),\n",
              "                         'classifier__n_neighbors': range(1, 23, 5)},\n",
              "             pre_dispatch='2*n_jobs', refit=True, return_train_score=False,\n",
              "             scoring=None, verbose=2)"
            ]
          },
          "metadata": {
            "tags": []
          },
          "execution_count": 10
        }
      ]
    },
    {
      "cell_type": "code",
      "metadata": {
        "id": "sdET66Dw5mqD",
        "colab_type": "code",
        "colab": {
          "base_uri": "https://localhost:8080/",
          "height": 33
        },
        "outputId": "4bd244f3-e5e7-4d28-c91a-f02ecca7dd3e"
      },
      "source": [
        "grid.best_score_"
      ],
      "execution_count": 11,
      "outputs": [
        {
          "output_type": "execute_result",
          "data": {
            "text/plain": [
              "0.9693833333333333"
            ]
          },
          "metadata": {
            "tags": []
          },
          "execution_count": 11
        }
      ]
    },
    {
      "cell_type": "code",
      "metadata": {
        "id": "bnf9iYCW5oYq",
        "colab_type": "code",
        "colab": {
          "base_uri": "https://localhost:8080/",
          "height": 33
        },
        "outputId": "5250e94c-ac52-41cc-f413-e883a9194006"
      },
      "source": [
        "grid.best_estimator_.score(test_images, test_labels)"
      ],
      "execution_count": 12,
      "outputs": [
        {
          "output_type": "execute_result",
          "data": {
            "text/plain": [
              "0.9747"
            ]
          },
          "metadata": {
            "tags": []
          },
          "execution_count": 12
        }
      ]
    },
    {
      "cell_type": "code",
      "metadata": {
        "id": "VaSB7ZWH5rHX",
        "colab_type": "code",
        "colab": {
          "base_uri": "https://localhost:8080/",
          "height": 33
        },
        "outputId": "7f73454b-530e-48ce-a63a-7e2ef5ccc772"
      },
      "source": [
        "grid.best_params_"
      ],
      "execution_count": 13,
      "outputs": [
        {
          "output_type": "execute_result",
          "data": {
            "text/plain": [
              "{'PCA__n_components': 30, 'classifier__n_neighbors': 6}"
            ]
          },
          "metadata": {
            "tags": []
          },
          "execution_count": 13
        }
      ]
    },
    {
      "cell_type": "code",
      "metadata": {
        "id": "hdbyc29o8h1g",
        "colab_type": "code",
        "colab": {}
      },
      "source": [
        "import matplotlib.pyplot as plt\n",
        "import random"
      ],
      "execution_count": 32,
      "outputs": []
    },
    {
      "cell_type": "code",
      "metadata": {
        "id": "QzKtmnfy8yj5",
        "colab_type": "code",
        "colab": {
          "base_uri": "https://localhost:8080/",
          "height": 1000
        },
        "outputId": "c7132f8f-8583-4628-d36c-99d11ab8a1d1"
      },
      "source": [
        "n = 10\n",
        "idxs = random.choices(range(test_images.shape[0]), k=n)\n",
        "fig, axes = plt.subplots(n, 2, figsize=(20, 20))\n",
        "for i in range(n):\n",
        "    axes[i][0].imshow(test_images[idxs[i]].reshape(28,28), cmap='gray')\n",
        "    pca = grid.best_estimator_['PCA'].transform([test_images[idxs[i]]])\n",
        "    rec_image = grid.best_estimator_['PCA'].inverse_transform(pca)\n",
        "    axes[i][1].imshow(rec_image.reshape(28,28), cmap='gray')"
      ],
      "execution_count": 42,
      "outputs": [
        {
          "output_type": "display_data",
          "data": {
            "image/png": "[encoded data removed]",
            "text/plain": [
              "<Figure size 1440x1440 with 20 Axes>"
            ]
          },
          "metadata": {
            "tags": [],
            "needs_background": "light"
          }
        }
      ]
    },
    {
      "cell_type": "code",
      "metadata": {
        "id": "-b3Uvd84-AcD",
        "colab_type": "code",
        "colab": {}
      },
      "source": [
        ""
      ],
      "execution_count": null,
      "outputs": []
    }
  ]
}